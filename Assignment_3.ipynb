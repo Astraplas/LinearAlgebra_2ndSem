{
  "nbformat": 4,
  "nbformat_minor": 0,
  "metadata": {
    "colab": {
      "name": "Assignment 3",
      "provenance": [],
      "authorship_tag": "ABX9TyO9saoWHAJYdQWPpWJ8j6EM",
      "include_colab_link": true
    },
    "kernelspec": {
      "name": "python3",
      "display_name": "Python 3"
    },
    "language_info": {
      "name": "python"
    }
  },
  "cells": [
    {
      "cell_type": "markdown",
      "metadata": {
        "id": "view-in-github",
        "colab_type": "text"
      },
      "source": [
        "<a href=\"https://colab.research.google.com/github/Astraplas/LinearAlgebra_2ndSem/blob/main/Assignment_3.ipynb\" target=\"_parent\"><img src=\"https://colab.research.google.com/assets/colab-badge.svg\" alt=\"Open In Colab\"/></a>"
      ]
    },
    {
      "cell_type": "markdown",
      "source": [
        "# Linear Algebra for CHE\n",
        "## Laboratory 4: Matrices"
      ],
      "metadata": {
        "id": "kG8wQuLKxhgg"
      }
    },
    {
      "cell_type": "markdown",
      "source": [
        "Now that you have a fundamental knowledge about Python, we'll try to look into greater dimensions."
      ],
      "metadata": {
        "id": "h_YXTlOsxutu"
      }
    },
    {
      "cell_type": "markdown",
      "source": [
        "## Objectives\n",
        "At the end of this activity you will be able to: \n",
        "1. Be familiar with matrices and their relation to linear equations.\n",
        "2. Perform basic matrix operations. \n",
        "3. Program and translate matrix equations and operations using Python."
      ],
      "metadata": {
        "id": "lpll8ivBx7T1"
      }
    },
    {
      "cell_type": "markdown",
      "source": [
        "# Discussion"
      ],
      "metadata": {
        "id": "wN3NZg6jyGp8"
      }
    },
    {
      "cell_type": "markdown",
      "source": [
        "The following codes below will serve as a foundation in doing several codes that involves the use of matrix in Python itself."
      ],
      "metadata": {
        "id": "9Z_OIjEntEa0"
      }
    },
    {
      "cell_type": "code",
      "source": [
        "import numpy as np\n",
        "import matplotlib.pyplot as plt\n",
        "import scipy.linalg as la\n",
        "%matplotlib inline"
      ],
      "metadata": {
        "id": "SJkmX7BjyQZt"
      },
      "execution_count": 5,
      "outputs": []
    },
    {
      "cell_type": "markdown",
      "source": [
        "### Matrices"
      ],
      "metadata": {
        "id": "JSPMh_3Fyvpy"
      }
    },
    {
      "cell_type": "markdown",
      "source": [
        "The notation and use of matrices is probably one of the fundamentals of modern computing. Matrices are also handy representations of complex equations or multiple inter-related equations from 2-dimensional equations to even hundreds and thousands of them.\n"
      ],
      "metadata": {
        "id": "Ks1t-KQAyxx_"
      }
    },
    {
      "cell_type": "markdown",
      "source": [
        "Let's say for example $A$ and $B$ as system of equation."
      ],
      "metadata": {
        "id": "OvrKM3ngzsQa"
      }
    },
    {
      "cell_type": "markdown",
      "source": [
        "$$\n",
        "A = \\left\\{\n",
        "    \\begin{array}\\\n",
        "        2x + 3y \\\\ \n",
        "        46x - 150y\n",
        "    \\end{array}\n",
        "\\right. \\\\\n",
        "B = \\left\\{\n",
        "    \\begin{array}\\\n",
        "        3x+7y+9z \\\\ \n",
        "        8x -5y -3z \\\\\n",
        "        2x + 5y +3z\n",
        "    \\end{array}\n",
        "\\right. \\\\\n",
        "C = \\left\\{\n",
        "    \\begin{array}\\\n",
        "        5w-4x+7y+41z \\\\ \n",
        "        33w -5x -21y +6z \\\\\n",
        "        22w -5x + 33y -22z\n",
        "    \\end{array}\n",
        "\\right. $$\n"
      ],
      "metadata": {
        "id": "bi7PPJcCz3JP"
      }
    },
    {
      "cell_type": "markdown",
      "source": [
        "We could see that $A$ is a system of equations with 2 parameters. While $B$ is a system of 3 equations with 3 parameters. We can represent them as matrices as:"
      ],
      "metadata": {
        "id": "fSErjDXiz9mL"
      }
    },
    {
      "cell_type": "markdown",
      "source": [
        ":$$\n",
        "A=\\begin{bmatrix} 2 & 3 \\\\ 46 & {-150}\\end{bmatrix} \\\\\n",
        "B=\\begin{bmatrix} 3 & 7 & 9 \\\\ 8 & -5 & -3 \\\\ 2 & 5 & 3\\end{bmatrix} \\\\\n",
        "C=\\begin{bmatrix} 5 & -4 & 7 & 41 \\\\ 32 & -5 & -21 & 6 \\\\ 22 & -5 & 33 & -22\\end{bmatrix}\n",
        "$$\n",
        "\n"
      ],
      "metadata": {
        "id": "vS8Fl4QQ1M_1"
      }
    },
    {
      "cell_type": "markdown",
      "source": [
        "So assuming that you already discussed the fundamental representation of matrices, their types, and operations. We'll proceed in doing them in here in Python."
      ],
      "metadata": {
        "id": "DdwHJ6Ox2RPo"
      }
    },
    {
      "cell_type": "markdown",
      "source": [
        "## Declaring Matrices"
      ],
      "metadata": {
        "id": "eCxLhuTV2irW"
      }
    },
    {
      "cell_type": "markdown",
      "source": [
        "Just like our previous laboratory activity, we'll represent system of linear equations as a matrix. The entities or numbers in matrices are called the elements of a matrix. These elements are arranged and ordered in rows and columns which form the list/array-like structure of matrices. And just like arrays, these elements are indexed according to their position with respect to their rows and columns. This can be represented just like the equation below. Whereas $A$ is a matrix consisting of elements denoted by $a_{i,j}$. Denoted by $i$ is the number of rows in the matrix while $j$ stands for the number of columns.<br>\n",
        "Do note that the $size$ of a matrix is $i\\times j$."
      ],
      "metadata": {
        "id": "8QSU1Up22nt1"
      }
    },
    {
      "cell_type": "markdown",
      "source": [
        "$$A=\\begin{bmatrix}\n",
        "a_{(0,0)}&a_{(0,1)}&\\dots&a_{(0,j-1)}\\\\\n",
        "a_{(1,0)}&a_{(1,1)}&\\dots&a_{(1,j-1)}\\\\\n",
        "\\vdots&\\vdots&\\ddots&\\vdots&\\\\\n",
        "a_{(i-1,0)}&a_{(i-1,1)}&\\dots&a_{(i-1,j-1)}\n",
        "\\end{bmatrix}\n",
        "$$\n"
      ],
      "metadata": {
        "id": "qlolTWo13f4x"
      }
    },
    {
      "cell_type": "markdown",
      "source": [
        "We have already gone over some of the types of matrices as vectors but we'll further discuss them in this laboratory activity. Since you already know how to describe vectors using **shape**, **dimensions**, and **size** attributes, we'll use them to analyze these matrices"
      ],
      "metadata": {
        "id": "tlntqhIP3t6s"
      }
    },
    {
      "cell_type": "code",
      "source": [
        "## Since we'll keep on describing matrices. Let's make a function.\n",
        "def describe_mat(matrix):\n",
        "    print(f'Matrix:\\n{matrix}\\n\\nShape:\\t{matrix.shape}\\nRank:\\t{matrix.ndim}\\n')"
      ],
      "metadata": {
        "id": "leNUVM_k3ysV"
      },
      "execution_count": null,
      "outputs": []
    },
    {
      "cell_type": "markdown",
      "source": [
        "I think I can use this in future programs that is related to matrices."
      ],
      "metadata": {
        "id": "cJavoR87PUWz"
      }
    },
    {
      "cell_type": "code",
      "source": [
        "## Declaring a 2 x 2 Matrix \n",
        "A = np.array([\n",
        "    [1, 2],\n",
        "    [3, 1]\n",
        "])\n",
        "describe_mat(A)"
      ],
      "metadata": {
        "colab": {
          "base_uri": "https://localhost:8080/"
        },
        "id": "gueuzdSX4OF6",
        "outputId": "cdadc6f2-817f-4046-9f11-86c22339987e"
      },
      "execution_count": null,
      "outputs": [
        {
          "output_type": "stream",
          "name": "stdout",
          "text": [
            "Matrix:\n",
            "[[1 2]\n",
            " [3 1]]\n",
            "\n",
            "Shape:\t(2, 2)\n",
            "Rank:\t2\n",
            "\n"
          ]
        }
      ]
    },
    {
      "cell_type": "markdown",
      "source": [
        "The dimension of the matrix above is (2x2) and has been described accurately by the displayed output."
      ],
      "metadata": {
        "id": "MKrimkhKQl6i"
      }
    },
    {
      "cell_type": "code",
      "source": [
        "G = np.array([\n",
        "    [1,1,3],\n",
        "    [2,2,4]\n",
        "])\n",
        "describe_mat(G)"
      ],
      "metadata": {
        "colab": {
          "base_uri": "https://localhost:8080/"
        },
        "id": "K8Z0aSTA5R4R",
        "outputId": "07213fb2-24db-4700-c11c-c19b8e62b74d"
      },
      "execution_count": null,
      "outputs": [
        {
          "output_type": "stream",
          "name": "stdout",
          "text": [
            "Matrix:\n",
            "[[1 1 3]\n",
            " [2 2 4]]\n",
            "\n",
            "Shape:\t(2, 3)\n",
            "Rank:\t2\n",
            "\n"
          ]
        }
      ]
    },
    {
      "cell_type": "markdown",
      "source": [
        "In here, the rank is 2 and the dimension of the matrix above is (2x3) and has been described as it is in the output displayed."
      ],
      "metadata": {
        "id": "hXIP4mqERD_e"
      }
    },
    {
      "cell_type": "code",
      "source": [
        "## Declaring a 3 x 2 Matrix\n",
        "B = np.array([\n",
        "    [8,2],\n",
        "    [5,4],\n",
        "    [1,1]\n",
        "])\n",
        "describe_mat(B)\n"
      ],
      "metadata": {
        "colab": {
          "base_uri": "https://localhost:8080/"
        },
        "id": "mvsXnozT6Y4Z",
        "outputId": "77adc266-9fd2-4039-f979-3e41c1c0597b"
      },
      "execution_count": null,
      "outputs": [
        {
          "output_type": "stream",
          "name": "stdout",
          "text": [
            "Matrix:\n",
            "[[8 2]\n",
            " [5 4]\n",
            " [1 1]]\n",
            "\n",
            "Shape:\t(3, 2)\n",
            "Rank:\t2\n",
            "\n"
          ]
        }
      ]
    },
    {
      "cell_type": "markdown",
      "source": [
        "In here, shape of the matrix is (3, 2) meaning, it has a dimension of (3x2) and a rank of 2 just like the displayed output."
      ],
      "metadata": {
        "id": "aHbK8MVHR4bh"
      }
    },
    {
      "cell_type": "code",
      "source": [
        "H = np.array([1,2,3,4,5])\n",
        "describe_mat(H)"
      ],
      "metadata": {
        "colab": {
          "base_uri": "https://localhost:8080/"
        },
        "id": "EaoEuGpy6obt",
        "outputId": "687f0587-4f55-46aa-d289-ce5f8cb4660e"
      },
      "execution_count": null,
      "outputs": [
        {
          "output_type": "stream",
          "name": "stdout",
          "text": [
            "Matrix:\n",
            "[1 2 3 4 5]\n",
            "\n",
            "Shape:\t(5,)\n",
            "Rank:\t1\n",
            "\n"
          ]
        }
      ]
    },
    {
      "cell_type": "markdown",
      "source": [
        "Lastly, the rank of this particular matrix is only 1 and is corresponding dimensions is (1x5)."
      ],
      "metadata": {
        "id": "q2p60aJPSMBC"
      }
    },
    {
      "cell_type": "markdown",
      "source": [
        "As could be seen in the declared matrices above, their shape, size, and rank were displayed as an output."
      ],
      "metadata": {
        "id": "TA-1Tv6bQIL0"
      }
    },
    {
      "cell_type": "markdown",
      "source": [
        "## Categorizing Matrices"
      ],
      "metadata": {
        "id": "WP_Wgc257F_l"
      }
    },
    {
      "cell_type": "markdown",
      "source": [
        "There are several ways of classifying matrices.Once could be according to their **shape** and another is according to their **element values**. We'll try to go through them."
      ],
      "metadata": {
        "id": "I9ivHuab7Jor"
      }
    },
    {
      "cell_type": "markdown",
      "source": [
        "### According to Shapes"
      ],
      "metadata": {
        "id": "44-hWBcK7VTI"
      }
    },
    {
      "cell_type": "markdown",
      "source": [
        "Row an column are common in vector and matrix computations. They can also represent row and column spaces of a bigger vector space. Row and column matrices are represented by a single column or single row. So with that being, the shape of row matrices would be $1 \\times j$ and column matrices would be $i \\times 1$"
      ],
      "metadata": {
        "id": "NV9C9zac7aet"
      }
    },
    {
      "cell_type": "code",
      "source": [
        "## Declaring a Row Matrix\n",
        "\n",
        "row_mat_1D = np.array([\n",
        "    1, 3, 2\n",
        "]) ## this is a 1-D Matrix with a shape of (3,), it's not really considered as a row matrix\n",
        "row_mat_2D = np.array([\n",
        "    [1,2,3, -4]\n",
        "]) ## this is a 2-D Matrix with a shape of (1,3)\n",
        "describe_mat(row_mat_1D)\n",
        "describe_mat(row_mat_2D)                       "
      ],
      "metadata": {
        "colab": {
          "base_uri": "https://localhost:8080/"
        },
        "id": "TD2CFklG7ijG",
        "outputId": "8aac2988-9603-44d8-e64e-51bbd616016d"
      },
      "execution_count": null,
      "outputs": [
        {
          "output_type": "stream",
          "name": "stdout",
          "text": [
            "Matrix:\n",
            "[1 3 2]\n",
            "\n",
            "Shape:\t(3,)\n",
            "Rank:\t1\n",
            "\n",
            "Matrix:\n",
            "[[ 1  2  3 -4]]\n",
            "\n",
            "Shape:\t(1, 4)\n",
            "Rank:\t2\n",
            "\n"
          ]
        }
      ]
    },
    {
      "cell_type": "markdown",
      "source": [
        "In the code above, two matrices were made. the first one has a dimension of (1x3) and the second one has a dimension of (1x4)."
      ],
      "metadata": {
        "id": "jX3URqxEYJtK"
      }
    },
    {
      "cell_type": "code",
      "source": [
        "## Declaring a Column Matrix\n",
        "\n",
        "col_mat = np.array ([\n",
        "    [15],\n",
        "    [52],\n",
        "    [576]                \n",
        "]) ## this is a 2-D Matrix with a shape of (3,1)\n",
        "describe_mat(col_mat)"
      ],
      "metadata": {
        "colab": {
          "base_uri": "https://localhost:8080/"
        },
        "id": "e5nbu40G8nyM",
        "outputId": "a2ed646b-a763-4417-d289-7c4958a1369d"
      },
      "execution_count": null,
      "outputs": [
        {
          "output_type": "stream",
          "name": "stdout",
          "text": [
            "Matrix:\n",
            "[[ 15]\n",
            " [ 52]\n",
            " [576]]\n",
            "\n",
            "Shape:\t(3, 1)\n",
            "Rank:\t2\n",
            "\n"
          ]
        }
      ]
    },
    {
      "cell_type": "markdown",
      "source": [
        "In here, the rank is 2 and the dimension of the matrix above is (3x1) and has been described as it is in the output displayed."
      ],
      "metadata": {
        "id": "aQH4bYfCZrSh"
      }
    },
    {
      "cell_type": "markdown",
      "source": [
        "### Square Matrices"
      ],
      "metadata": {
        "id": "M1HiuzDz9oW-"
      }
    },
    {
      "cell_type": "markdown",
      "source": [
        "Square matrices are matrices that have the same row and column sizes. We could say a matrix is square if $i = j$. We can tweak our matrix descriptor funtion to determine square matrices."
      ],
      "metadata": {
        "id": "TPYNvXw396ZG"
      }
    },
    {
      "cell_type": "code",
      "source": [
        "def describe_mat(matrix):\n",
        "  is_square = True if matrix.shape[0] == matrix.shape[1] else False\n",
        "  print(f'Matrix:\\n{matrix}\\n\\nShape:\\t{matrix.shape}\\nRank:\\t{matrix.ndim}\\\n",
        "  nIs Square: {is_square}\\n')"
      ],
      "metadata": {
        "id": "1ylIc2Vl-Bgs"
      },
      "execution_count": null,
      "outputs": []
    },
    {
      "cell_type": "code",
      "source": [
        "square_mat = np.array([\n",
        "     [1,2,5],\n",
        "     [3,3,8],\n",
        "     [6,1,2]                  \n",
        "])\n",
        "\n",
        "non_square_mat = np.array([\n",
        "    [1,2,5],\n",
        "    [3,3,8]\n",
        "])\n",
        "describe_mat(square_mat)\n",
        "describe_mat(non_square_mat)"
      ],
      "metadata": {
        "colab": {
          "base_uri": "https://localhost:8080/"
        },
        "id": "HO24Xiog-rjt",
        "outputId": "db93c91e-33b3-4a34-e5b5-ec3436b738df"
      },
      "execution_count": null,
      "outputs": [
        {
          "output_type": "stream",
          "name": "stdout",
          "text": [
            "Matrix:\n",
            "[[1 2 5]\n",
            " [3 3 8]\n",
            " [6 1 2]]\n",
            "\n",
            "Shape:\t(3, 3)\n",
            "Rank:\t2  nIs Square: True\n",
            "\n",
            "Matrix:\n",
            "[[1 2 5]\n",
            " [3 3 8]]\n",
            "\n",
            "Shape:\t(2, 3)\n",
            "Rank:\t2  nIs Square: False\n",
            "\n"
          ]
        }
      ]
    },
    {
      "cell_type": "markdown",
      "source": [
        "In the code above, the first matrix is square since the row and columns are the same in magnitude. However, for the second matrix, it is not a square since the row and column are not equivalent."
      ],
      "metadata": {
        "id": "XDBAaQclZ_EV"
      }
    },
    {
      "cell_type": "markdown",
      "source": [
        "### According to Element Values"
      ],
      "metadata": {
        "id": "0iFCzarkBGXQ"
      }
    },
    {
      "cell_type": "markdown",
      "source": [
        "#### Null Matrix"
      ],
      "metadata": {
        "id": "INcpyA0OBOAb"
      }
    },
    {
      "cell_type": "markdown",
      "source": [
        "A Null Matrix is a matrix that has no elements. It is always a subspace of any vector or matrix."
      ],
      "metadata": {
        "id": "22bkrHdWBJ2H"
      }
    },
    {
      "cell_type": "code",
      "source": [
        "def describe_mat(matrix):\n",
        "  if matrix.size > 0:\n",
        "      is_square = True if matrix.shape[0] == matrix.shape[1] else False\n",
        "      print(f'Matrix:\\n{matrix}\\n\\nShape:\\t{matrix.shape}\\nRank:\\t{matrix.ndim}\\nIs Square: {is_square}\\n')\n",
        "  else:\n",
        "      print('Matrix is Null')"
      ],
      "metadata": {
        "id": "xQ0qQwnNpv8n"
      },
      "execution_count": null,
      "outputs": []
    },
    {
      "cell_type": "code",
      "source": [
        "null_mat = np.array([])\n",
        "describe_mat(null_mat)"
      ],
      "metadata": {
        "colab": {
          "base_uri": "https://localhost:8080/"
        },
        "id": "zjk0cssQp-N4",
        "outputId": "495532ec-f75e-4618-f193-ca3aeac4ef75"
      },
      "execution_count": null,
      "outputs": [
        {
          "output_type": "stream",
          "name": "stdout",
          "text": [
            "Matrix is Null\n"
          ]
        }
      ]
    },
    {
      "cell_type": "markdown",
      "source": [
        "The code above has become a null matrix since there are no value enter in the matrix itself."
      ],
      "metadata": {
        "id": "jHBZZX1Aasd8"
      }
    },
    {
      "cell_type": "markdown",
      "source": [
        "#### Zero Matrix"
      ],
      "metadata": {
        "id": "1bsTlbSLCQsH"
      }
    },
    {
      "cell_type": "markdown",
      "source": [
        "A zero matrix can ba any rectangular matrix but with all elements having a value of 0."
      ],
      "metadata": {
        "id": "hbnROgpiCTfB"
      }
    },
    {
      "cell_type": "code",
      "source": [
        "zero_mat_row = np.zeros((1,2))\n",
        "zero_mat_sqr = np.zeros((2,2))\n",
        "zero_mat_rct = np.zeros((3,2))\n",
        "\n",
        "print(f'Zero Row Matrix: \\n{zero_mat_row}')\n",
        "print(f'Zero Square Matrix: \\n{zero_mat_sqr}')\n",
        "print(f'Zero Rectangular Matrix: \\n{zero_mat_rct}')"
      ],
      "metadata": {
        "colab": {
          "base_uri": "https://localhost:8080/"
        },
        "id": "-9lIh-PqCSOj",
        "outputId": "f3a888f9-2ed1-480c-a3d3-79106f7a8340"
      },
      "execution_count": null,
      "outputs": [
        {
          "output_type": "stream",
          "name": "stdout",
          "text": [
            "Zero Row Matrix: \n",
            "[[0. 0.]]\n",
            "Zero Square Matrix: \n",
            "[[0. 0.]\n",
            " [0. 0.]]\n",
            "Zero Rectangular Matrix: \n",
            "[[0. 0.]\n",
            " [0. 0.]\n",
            " [0. 0.]]\n"
          ]
        }
      ]
    },
    {
      "cell_type": "markdown",
      "source": [
        "In here, the shape were the input, and the program would make the value of all the given shape to be zero. Therefore, making the matrix a zero matrix."
      ],
      "metadata": {
        "id": "v8HkrpCUa-nM"
      }
    },
    {
      "cell_type": "markdown",
      "source": [
        "#### Ones Matrix"
      ],
      "metadata": {
        "id": "4PqBWfsWC_qz"
      }
    },
    {
      "cell_type": "markdown",
      "source": [
        "A ones matrix, just like the zero matrix, can be any rectangular matrix but all of its elements are 1s instead of 0s."
      ],
      "metadata": {
        "id": "dDPvFCx7DtYh"
      }
    },
    {
      "cell_type": "code",
      "source": [
        "ones_mat_row = np.ones((1,2))\n",
        "ones_mat_sqr = np.ones((2,2))\n",
        "ones_mat_rct = np.ones((3,2))\n",
        "\n",
        "print(f'Ones Row Matrix: \\n{ones_mat_row}')\n",
        "print(f'Ones Square Matrix: \\n{ones_mat_sqr}')\n",
        "print(f'Ones Rectangular Matrix: \\n{ones_mat_rct}')"
      ],
      "metadata": {
        "colab": {
          "base_uri": "https://localhost:8080/"
        },
        "id": "nVpGXaOTDzuS",
        "outputId": "180de515-e76f-4ec0-eeda-d534cb85e353"
      },
      "execution_count": null,
      "outputs": [
        {
          "output_type": "stream",
          "name": "stdout",
          "text": [
            "Ones Row Matrix: \n",
            "[[1. 1.]]\n",
            "Ones Square Matrix: \n",
            "[[1. 1.]\n",
            " [1. 1.]]\n",
            "Ones Rectangular Matrix: \n",
            "[[1. 1.]\n",
            " [1. 1.]\n",
            " [1. 1.]]\n"
          ]
        }
      ]
    },
    {
      "cell_type": "markdown",
      "source": [
        "The same process for the zero matrix was repeated, but in here, instead of making all of the values for the given shape to be zero it will instead make the values to be all one. Thus, making the matrix a ones matrix."
      ],
      "metadata": {
        "id": "pmVDKfl7ecqc"
      }
    },
    {
      "cell_type": "markdown",
      "source": [
        "#### Diagonal Matrix"
      ],
      "metadata": {
        "id": "7YRA-XD6Ep1U"
      }
    },
    {
      "cell_type": "markdown",
      "source": [
        "A diagonal matrix is a square matrix that has values only at the diagonal of the matrix."
      ],
      "metadata": {
        "id": "7uAwfmdwEwXw"
      }
    },
    {
      "cell_type": "code",
      "source": [
        "np.array([\n",
        "      [2,0,0],\n",
        "      [0,3,0],\n",
        "      [0,0,5]\n",
        "])\n",
        "# a[1,1], a[2,2], a[3,3], ... a[n-1, n-1]"
      ],
      "metadata": {
        "colab": {
          "base_uri": "https://localhost:8080/"
        },
        "id": "gh1QxwWKEra7",
        "outputId": "c2410546-ae15-4ed2-8543-8515de863018"
      },
      "execution_count": null,
      "outputs": [
        {
          "output_type": "execute_result",
          "data": {
            "text/plain": [
              "array([[2, 0, 0],\n",
              "       [0, 3, 0],\n",
              "       [0, 0, 5]])"
            ]
          },
          "metadata": {},
          "execution_count": 27
        }
      ]
    },
    {
      "cell_type": "markdown",
      "source": [
        "Since the given matrix is a square matrix, and all of the values are only in the diagonal of the square matrix. It is then a diagonal matrix."
      ],
      "metadata": {
        "id": "Cc382BR4fW44"
      }
    },
    {
      "cell_type": "code",
      "source": [
        "d = np.diag([2,3,5,7])\n",
        "d.shape[0] == d.shape[1]\n",
        "d"
      ],
      "metadata": {
        "colab": {
          "base_uri": "https://localhost:8080/"
        },
        "id": "3RQJaSRJFHsO",
        "outputId": "6a606028-5c05-4075-e719-e98af71a82a1"
      },
      "execution_count": null,
      "outputs": [
        {
          "output_type": "execute_result",
          "data": {
            "text/plain": [
              "array([[2, 0, 0, 0],\n",
              "       [0, 3, 0, 0],\n",
              "       [0, 0, 5, 0],\n",
              "       [0, 0, 0, 7]])"
            ]
          },
          "metadata": {},
          "execution_count": 28
        }
      ]
    },
    {
      "cell_type": "markdown",
      "source": [
        "In contrast to the first created diagonal matrix. In here, in np.diag was used and all of the entered values was entered diagonally."
      ],
      "metadata": {
        "id": "WcROGF6Tf1eg"
      }
    },
    {
      "cell_type": "markdown",
      "source": [
        "#### Identity Matrix"
      ],
      "metadata": {
        "id": "dwrlbJhdF2_p"
      }
    },
    {
      "cell_type": "markdown",
      "source": [
        "An identity matrix is a special diagonal matrix in which the values at the diagonal are ones.\n"
      ],
      "metadata": {
        "id": "oBHoBdTYF4sI"
      }
    },
    {
      "cell_type": "code",
      "source": [
        "np.eye(3)"
      ],
      "metadata": {
        "colab": {
          "base_uri": "https://localhost:8080/"
        },
        "id": "DMdzzMEJF8AI",
        "outputId": "756fe1f0-4e71-45fc-93b7-85c41fae9b2f"
      },
      "execution_count": null,
      "outputs": [
        {
          "output_type": "execute_result",
          "data": {
            "text/plain": [
              "array([[1., 0., 0.],\n",
              "       [0., 1., 0.],\n",
              "       [0., 0., 1.]])"
            ]
          },
          "metadata": {},
          "execution_count": 29
        }
      ]
    },
    {
      "cell_type": "markdown",
      "source": [
        "There are not much of a difference to identity and diagonal matrix. It's just that in identity matrix, instead of random values, it will be instead values of 1 in the diagonal."
      ],
      "metadata": {
        "id": "PUVrgaOYgSfO"
      }
    },
    {
      "cell_type": "code",
      "source": [
        "np.identity(4)"
      ],
      "metadata": {
        "colab": {
          "base_uri": "https://localhost:8080/"
        },
        "id": "ecrYmPs-GCG5",
        "outputId": "b3c6460d-98a2-40e8-a768-bad0996ef2a3"
      },
      "execution_count": null,
      "outputs": [
        {
          "output_type": "execute_result",
          "data": {
            "text/plain": [
              "array([[1., 0., 0., 0.],\n",
              "       [0., 1., 0., 0.],\n",
              "       [0., 0., 1., 0.],\n",
              "       [0., 0., 0., 1.]])"
            ]
          },
          "metadata": {},
          "execution_count": 30
        }
      ]
    },
    {
      "cell_type": "markdown",
      "source": [
        "Compared to the first created matrix which used np.eye, in here it used np.identity in order to create an identity matrix."
      ],
      "metadata": {
        "id": "9JtPB_IughU1"
      }
    },
    {
      "cell_type": "markdown",
      "source": [
        "#### Upper Triangular Matrix"
      ],
      "metadata": {
        "id": "AJjbTiqHGGA6"
      }
    },
    {
      "cell_type": "markdown",
      "source": [
        "An upper triangular matrix is a matrix that has no values below the diagonal. "
      ],
      "metadata": {
        "id": "-OdYDbFLGcyZ"
      }
    },
    {
      "cell_type": "code",
      "source": [
        "np.array([\n",
        "    [1,2,3,4],\n",
        "    [0,3,1,-1],\n",
        "    [0,0,5,2],\n",
        "    [0,0,0,2]\n",
        "])"
      ],
      "metadata": {
        "colab": {
          "base_uri": "https://localhost:8080/"
        },
        "id": "y-g1nILNGefM",
        "outputId": "4a9075fb-507e-4bf8-c57f-3b478b4519ae"
      },
      "execution_count": null,
      "outputs": [
        {
          "output_type": "execute_result",
          "data": {
            "text/plain": [
              "array([[ 1,  2,  3,  4],\n",
              "       [ 0,  3,  1, -1],\n",
              "       [ 0,  0,  5,  2],\n",
              "       [ 0,  0,  0,  2]])"
            ]
          },
          "metadata": {},
          "execution_count": 31
        }
      ]
    },
    {
      "cell_type": "markdown",
      "source": [
        "In here, it is a variation of the diagonal matrix in which only the diagonal and its upper side only contains any value."
      ],
      "metadata": {
        "id": "A3g8OB4oiIwl"
      }
    },
    {
      "cell_type": "markdown",
      "source": [
        "#### Lower Triangular Matrix"
      ],
      "metadata": {
        "id": "LQn3eWpqGvhj"
      }
    },
    {
      "cell_type": "markdown",
      "source": [
        "A lower triangular matrix is a matrix that has no values above the diagonal."
      ],
      "metadata": {
        "id": "t1c1-wDMGyPi"
      }
    },
    {
      "cell_type": "code",
      "source": [
        "np.array([\n",
        "    [1,0,0],\n",
        "    [5,3,0],\n",
        "    [7,8,5]\n",
        "])"
      ],
      "metadata": {
        "id": "UW5nEfD0HRVB",
        "colab": {
          "base_uri": "https://localhost:8080/"
        },
        "outputId": "42fead59-e526-4b4a-e146-8eaf33fc0538"
      },
      "execution_count": null,
      "outputs": [
        {
          "output_type": "execute_result",
          "data": {
            "text/plain": [
              "array([[1, 0, 0],\n",
              "       [5, 3, 0],\n",
              "       [7, 8, 5]])"
            ]
          },
          "metadata": {},
          "execution_count": 4
        }
      ]
    },
    {
      "cell_type": "markdown",
      "source": [
        "Similar to the upper triangular matrix, in the lower triangular matrix instead of the upper side, it would now have its values on the diagonal and the lower side of the diagonal. Therefore, making it a lower triangular matrix."
      ],
      "metadata": {
        "id": "ZYVaA1uEis7G"
      }
    },
    {
      "cell_type": "markdown",
      "source": [
        "### Practice"
      ],
      "metadata": {
        "id": "f4qzy7SaHnLh"
      }
    },
    {
      "cell_type": "markdown",
      "source": [
        "1. Given the linear combination below, try to create a corresponding matrix representing it.\n"
      ],
      "metadata": {
        "id": "imc3wvZ-Hose"
      }
    },
    {
      "cell_type": "markdown",
      "source": [
        "$$\\theta = 5x + 3y - z$$\n"
      ],
      "metadata": {
        "id": "cSJcFilSH3qf"
      }
    },
    {
      "cell_type": "markdown",
      "source": [
        "\n",
        "$$\n",
        "\\theta = \\begin{bmatrix} 5 & 3 & -1\\end{bmatrix} \\\\\n",
        "$$"
      ],
      "metadata": {
        "id": "h32PE6Y-gFPE"
      }
    },
    {
      "cell_type": "markdown",
      "source": [
        "2. Given the system of linear combinations below, try to encode it as a matrix. Also describe the matrix.\n"
      ],
      "metadata": {
        "id": "M2GqHWk4H36K"
      }
    },
    {
      "cell_type": "markdown",
      "source": [
        "$$\n",
        "A = \\left\\{\\begin{array}\n",
        "5x_1 + 2x_2 +x_3\\\\\n",
        "4x_2 - x_3\\\\\n",
        "10x_3\n",
        "\\end{array}\\right.\n",
        "$$\n"
      ],
      "metadata": {
        "id": "RLcoTKAvH4HV"
      }
    },
    {
      "cell_type": "markdown",
      "source": [
        "$$\n",
        "A = \\begin{bmatrix} 1 & 2 & 1 \\\\ 0 & 4 & -1 \\\\ 0 & 0 & 10\\end{bmatrix} \\\\\n",
        "$$\n",
        "\n",
        "The matrix is square, with a rank of 2. It has a shape of (3, 3). It is also an upper triangular matrix."
      ],
      "metadata": {
        "id": "6S0YOxq2hVJI"
      }
    },
    {
      "cell_type": "code",
      "source": [
        "def describe_mat(matrix):\n",
        "    is_square = True if matrix.shape[0] == matrix.shape[1] else False\n",
        "    print(f'Matrix:\\n{matrix}\\n\\nShape:\\t{matrix.shape}\\nRank:\\t{matrix.ndim}\\nIs square: {is_square}\\n')"
      ],
      "metadata": {
        "id": "-_8Y1BASN81T"
      },
      "execution_count": 1,
      "outputs": []
    },
    {
      "cell_type": "code",
      "source": [
        "A = np.array([\n",
        "   [1,2,1],\n",
        "   [0,4,-1],\n",
        "   [0,0,10]                     \n",
        "])\n",
        "\n",
        "describe_mat(A)"
      ],
      "metadata": {
        "colab": {
          "base_uri": "https://localhost:8080/",
          "height": 0
        },
        "id": "JRW9F3u5OCDP",
        "outputId": "9f9a5751-75f8-4d4c-e7df-377764c973c4"
      },
      "execution_count": 6,
      "outputs": [
        {
          "output_type": "stream",
          "name": "stdout",
          "text": [
            "Matrix:\n",
            "[[ 1  2  1]\n",
            " [ 0  4 -1]\n",
            " [ 0  0 10]]\n",
            "\n",
            "Shape:\t(3, 3)\n",
            "Rank:\t2\n",
            "Is square: True\n",
            "\n"
          ]
        }
      ]
    },
    {
      "cell_type": "markdown",
      "source": [
        "3. Given the matrix below, express it as a linear combination in a markdown and a LaTeX markdown\n"
      ],
      "metadata": {
        "id": "zCCtkgAyItQc"
      }
    },
    {
      "cell_type": "code",
      "source": [
        "G = np.array([\n",
        "    [1,7,8],\n",
        "    [2,2,2],\n",
        "    [4,6,7]\n",
        "])\n"
      ],
      "metadata": {
        "id": "Y7HES4liI8zz"
      },
      "execution_count": null,
      "outputs": []
    },
    {
      "cell_type": "markdown",
      "source": [
        "$$\n",
        "G = \\left\\{\\begin{array}\n",
        "1x_1 + 7x_2 +8x_3\\\\\n",
        "4x_2 - x_3\\\\\n",
        "10x_3\n",
        "\\end{array}\\right.\n",
        "$$"
      ],
      "metadata": {
        "id": "yNwnSVLMNxAE"
      }
    },
    {
      "cell_type": "markdown",
      "source": [
        "$$\n",
        "G = \\left\\{\\begin{array}\n",
        "5x_1 + 7x_2 + 8x_3\\\\\n",
        "2x_1 + 2x_2 + 2x_3\\\\\n",
        "4x_1 + 6x_2 + 7x_3\n",
        "\\end{array}\\right.\n",
        "$$"
      ],
      "metadata": {
        "id": "z1G3GtoG6Y-Z"
      }
    },
    {
      "cell_type": "markdown",
      "source": [
        "$$\n",
        "G = \\begin{bmatrix} 1 & 7 & 8 \\\\ 2 & 2 & 2 \\\\ 4 & 6 & 7\\end{bmatrix}\n",
        "$$"
      ],
      "metadata": {
        "id": "hJMFEzLdOp7R"
      }
    },
    {
      "cell_type": "markdown",
      "source": [
        "\n",
        "\n",
        "```\n",
        "# This is formatted as code\n",
        "```\n",
        "\n",
        "4. Given the matrix below, display the output as a LaTeX markdown also express it as a system of linear combinations."
      ],
      "metadata": {
        "id": "Jz8eKNsEN7VD"
      }
    },
    {
      "cell_type": "code",
      "source": [
        "H = np.tril(G)\n",
        "H\n"
      ],
      "metadata": {
        "colab": {
          "base_uri": "https://localhost:8080/"
        },
        "id": "pQefvXzjI5wP",
        "outputId": "e38ea412-4ebf-4d0e-d001-29abcad5ae95"
      },
      "execution_count": null,
      "outputs": [
        {
          "output_type": "execute_result",
          "data": {
            "text/plain": [
              "array([[1, 0, 0],\n",
              "       [2, 2, 0],\n",
              "       [4, 6, 7]])"
            ]
          },
          "metadata": {},
          "execution_count": 33
        }
      ]
    },
    {
      "cell_type": "markdown",
      "source": [
        "$$\n",
        "A = \\left\\{\\begin{array}\n",
        "5x_1 \\\\\n",
        "2x_1 + 2x_2 \\\\\n",
        "4x_1 + 6x_2 + 7x_3\n",
        "\\end{array}\\right.\n",
        "$$"
      ],
      "metadata": {
        "id": "mB2J5jaS6qIH"
      }
    },
    {
      "cell_type": "markdown",
      "source": [
        "$$\n",
        "H = \\begin{bmatrix} 1 & 0 & 0 \\\\ 2 & 2 & 0 \\\\ 4 & 6 & 7\\end{bmatrix}\n",
        "$$"
      ],
      "metadata": {
        "id": "Tma6LaAMO8KV"
      }
    },
    {
      "cell_type": "markdown",
      "source": [
        "$$\n",
        "H = \\left\\{\\begin{array}\n",
        "5x_1 \\\\\n",
        "2x_1 + 2x_2 \\\\\n",
        "4x_1 + 6x_2 + 7x_3\n",
        "\\end{array}\\right.\n",
        "$$"
      ],
      "metadata": {
        "id": "X96ycyrHO-CA"
      }
    },
    {
      "cell_type": "markdown",
      "source": [
        "## Matrix Algebra"
      ],
      "metadata": {
        "id": "q1feMVtrJAlP"
      }
    },
    {
      "cell_type": "markdown",
      "source": [
        "#### Addition"
      ],
      "metadata": {
        "id": "QOGC-QbfJCqe"
      }
    },
    {
      "cell_type": "code",
      "source": [
        "A = np.array([\n",
        "      [1,2],\n",
        "      [2,3],\n",
        "      [4,1]\n",
        "])\n",
        "B = np.array([\n",
        "      [2,2],\n",
        "      [0,0],\n",
        "      [1,1]       \n",
        "])\n",
        "A+B"
      ],
      "metadata": {
        "colab": {
          "base_uri": "https://localhost:8080/"
        },
        "id": "Lvh7STwxJM42",
        "outputId": "0299205b-93fa-45c4-d139-58b35598ccde"
      },
      "execution_count": null,
      "outputs": [
        {
          "output_type": "execute_result",
          "data": {
            "text/plain": [
              "array([[3, 4],\n",
              "       [2, 3],\n",
              "       [5, 2]])"
            ]
          },
          "metadata": {},
          "execution_count": 34
        }
      ]
    },
    {
      "cell_type": "markdown",
      "source": [
        "In here, the values for the A and B matrix was first entered and then an addition of matrix has taken place."
      ],
      "metadata": {
        "id": "uk7GfMP8lekk"
      }
    },
    {
      "cell_type": "code",
      "source": [
        "2+A ##Broadcasting \n",
        "# 2*np.ones(A.shape)+A"
      ],
      "metadata": {
        "colab": {
          "base_uri": "https://localhost:8080/"
        },
        "id": "bNjEyYv5Jjjn",
        "outputId": "1343a7ac-c297-42c9-dd09-1cc1ad6741fe"
      },
      "execution_count": null,
      "outputs": [
        {
          "output_type": "execute_result",
          "data": {
            "text/plain": [
              "array([[3, 4],\n",
              "       [4, 5],\n",
              "       [6, 3]])"
            ]
          },
          "metadata": {},
          "execution_count": 36
        }
      ]
    },
    {
      "cell_type": "markdown",
      "source": [
        "The matrix A had all of its values added by 2 and the output was displayed."
      ],
      "metadata": {
        "id": "wumVtbR5lnD-"
      }
    },
    {
      "cell_type": "markdown",
      "source": [
        "#### Subtraction"
      ],
      "metadata": {
        "id": "AnJVjlyyJfsu"
      }
    },
    {
      "cell_type": "code",
      "source": [
        "A-B"
      ],
      "metadata": {
        "colab": {
          "base_uri": "https://localhost:8080/"
        },
        "id": "zd7QUm5qJzWp",
        "outputId": "23c463c9-5cb9-4976-9ff3-04f554522f49"
      },
      "execution_count": null,
      "outputs": [
        {
          "output_type": "execute_result",
          "data": {
            "text/plain": [
              "array([[-1,  0],\n",
              "       [ 2,  3],\n",
              "       [ 3,  0]])"
            ]
          },
          "metadata": {},
          "execution_count": 37
        }
      ]
    },
    {
      "cell_type": "markdown",
      "source": [
        "In this matrix, the matrix A was subtracted by the values in the matrix B. Since their dimensions are the same, the subtraction of matrix has taken place without an error."
      ],
      "metadata": {
        "id": "ARbKmRlsl5TY"
      }
    },
    {
      "cell_type": "code",
      "source": [
        "3-B"
      ],
      "metadata": {
        "colab": {
          "base_uri": "https://localhost:8080/"
        },
        "id": "98LmZ7STKCk7",
        "outputId": "e1cc2aa5-7ae3-4047-cdd9-4ac476690778"
      },
      "execution_count": null,
      "outputs": [
        {
          "output_type": "execute_result",
          "data": {
            "text/plain": [
              "array([[1, 1],\n",
              "       [3, 3],\n",
              "       [2, 2]])"
            ]
          },
          "metadata": {},
          "execution_count": 39
        }
      ]
    },
    {
      "cell_type": "markdown",
      "source": [
        "In here, it is simply the values of the matrix B is subtracted to 3."
      ],
      "metadata": {
        "id": "1uis63MxmPUy"
      }
    },
    {
      "cell_type": "code",
      "source": [
        "3-B == 3*np.ones(B.shape)-B"
      ],
      "metadata": {
        "colab": {
          "base_uri": "https://localhost:8080/"
        },
        "id": "LCBU3iMEJ7hz",
        "outputId": "5e9472d4-5945-48db-ea20-71979a1ba36d"
      },
      "execution_count": null,
      "outputs": [
        {
          "output_type": "execute_result",
          "data": {
            "text/plain": [
              "array([[ True,  True],\n",
              "       [ True,  True],\n",
              "       [ True,  True]])"
            ]
          },
          "metadata": {},
          "execution_count": 38
        }
      ]
    },
    {
      "cell_type": "markdown",
      "source": [
        "For here, the output made was regarding the values are true or false. Hereby, displaying true for all of the values."
      ],
      "metadata": {
        "id": "e1x7pVwTmq5G"
      }
    },
    {
      "cell_type": "markdown",
      "source": [
        "#### Element-wise Multiplication"
      ],
      "metadata": {
        "id": "jFofVxziKFqj"
      }
    },
    {
      "cell_type": "code",
      "source": [
        "A*B\n",
        "np.multiply(A,B)"
      ],
      "metadata": {
        "colab": {
          "base_uri": "https://localhost:8080/"
        },
        "id": "uT7a_ajXKI4L",
        "outputId": "739b1f8b-c3d3-42b3-d9d7-d035f5b50c72"
      },
      "execution_count": null,
      "outputs": [
        {
          "output_type": "execute_result",
          "data": {
            "text/plain": [
              "array([[2, 4],\n",
              "       [0, 0],\n",
              "       [4, 1]])"
            ]
          },
          "metadata": {},
          "execution_count": 40
        }
      ]
    },
    {
      "cell_type": "markdown",
      "source": [
        "The given A matrix and B matrix was multiplied in here and its corresponding output was displayed."
      ],
      "metadata": {
        "id": "ovlZ2RPnnvc5"
      }
    },
    {
      "cell_type": "code",
      "source": [
        "2*A"
      ],
      "metadata": {
        "colab": {
          "base_uri": "https://localhost:8080/"
        },
        "id": "EwJ8Wi2UKPOm",
        "outputId": "89415a92-1c0d-4049-b3f2-95efa6eeb882"
      },
      "execution_count": null,
      "outputs": [
        {
          "output_type": "execute_result",
          "data": {
            "text/plain": [
              "array([[2, 4],\n",
              "       [4, 6],\n",
              "       [8, 2]])"
            ]
          },
          "metadata": {},
          "execution_count": 41
        }
      ]
    },
    {
      "cell_type": "markdown",
      "source": [
        "In here, the given Matrix A was simply multiplied to 2, thus making all of the values of A become doubled."
      ],
      "metadata": {
        "id": "p2SeyNI6n4dL"
      }
    },
    {
      "cell_type": "code",
      "source": [
        "alpha = 10**-10\n",
        "A/((alpha+B))"
      ],
      "metadata": {
        "colab": {
          "base_uri": "https://localhost:8080/"
        },
        "id": "wIl5tXvRKiHZ",
        "outputId": "65e86e45-a052-489e-bc16-2487a85ea59f"
      },
      "execution_count": null,
      "outputs": [
        {
          "output_type": "execute_result",
          "data": {
            "text/plain": [
              "array([[5.e-01, 1.e+00],\n",
              "       [2.e+10, 3.e+10],\n",
              "       [4.e+00, 1.e+00]])"
            ]
          },
          "metadata": {},
          "execution_count": 43
        }
      ]
    },
    {
      "cell_type": "markdown",
      "source": [
        "The values inputted in here was raised to the power of -10, and its resulting output was displayed."
      ],
      "metadata": {
        "id": "BskjX3S5oZF6"
      }
    },
    {
      "cell_type": "markdown",
      "source": [
        "## Activity"
      ],
      "metadata": {
        "id": "aHXk3Gv-KsVO"
      }
    },
    {
      "cell_type": "markdown",
      "source": [
        "### Task 1"
      ],
      "metadata": {
        "id": "5JT1bjQLKvTz"
      }
    },
    {
      "cell_type": "markdown",
      "source": [
        "**Create** a function named `mat_desc()` that througouhly describes a matrix, it should: <br>\n",
        "1. Displays the shape, size, and rank of the matrix. <br>\n",
        "2. Displays whether the matrix is square or non-square. <br>\n",
        "3. Displays whether the matrix is an empty matrix. <br>\n",
        "4. Displays if the matrix is an identity, ones, or zeros matrix <br>\n",
        "   \n",
        "Use 3 sample matrices in which their shapes are not lower than $(3,3)$.\n",
        "In your methodology, create a flowchart discuss the functions and methods you have done. Present your results in the results section showing the description of each matrix you have declared."
      ],
      "metadata": {
        "id": "LaanFYj4OCVN"
      }
    },
    {
      "cell_type": "code",
      "source": [
        "import numpy as np \n",
        "import matplotlib.pyplot as plt\n",
        "import scipy.linalg as la\n",
        "%matplotlib inline\n",
        "X = int(input(\"Number of rows:\"))\n",
        "Y = int(input(\"Number of columns:\")) \n",
        "print(\"Entries per row (separated by space): \")  \n",
        "entries = list(map(int, input().split()))\n",
        "num_entries = len(entries)\n",
        "area_dim = X*Y\n",
        "##validation if the number of entry is not inclined in the product of row and column.\n",
        "if (area_dim != num_entries):\n",
        "  print(\"Invalid input of entry. Your number of entries must be equal to the product of row and column.\")\n",
        "  raise ValueError(\"Error! Please enter the correct number of series in entry.\")\n",
        "matrix = np.array(entries).reshape(X, Y)\n",
        "def describe_mat(matrix):\n",
        "  is_square = True if matrix.shape[0] == matrix.shape[1] else False\n",
        "  print(f'\\nMatrix:\\n{matrix}\\n\\nShape:\\t{matrix.shape}\\nRank:\\t{matrix.ndim}\\nIs Square: {is_square}')\n",
        "describe_mat(matrix)\n",
        "is_empty = matrix == 0\n",
        "if False:\n",
        "  print('The matrix is empty')\n",
        "else:\n",
        "   print('The matrix is not empty')\n",
        "point=0\n",
        "for i in range(len(matrix)):\n",
        "    for j in range(len(matrix[0])):\n",
        "        if i == j and matrix[i][j] != 1:\n",
        "            point=1 \n",
        "            break\n",
        "        elif i!=j and matrix[i][j]!=0:\n",
        "            point=1\n",
        "            break\n",
        "if point==1:\n",
        "    print(\"The matrix is not an identity matrix.\")\n",
        "else:\n",
        "    print(\"The matrix is an identity matrix.\")\n",
        "arr = matrix\n",
        "is_all_zero = np.all((arr == 0))\n",
        "if is_all_zero:\n",
        "    print('The matrix only have 0')\n",
        "else:\n",
        "    print('The matrix has non-zero items')\n",
        "arr = matrix\n",
        "is_all_zero = np.all((arr == 1))\n",
        "if is_all_zero:\n",
        "    print('The matrix only have 1')\n",
        "else:\n",
        "    print('The matrix non-ones items')"
      ],
      "metadata": {
        "colab": {
          "base_uri": "https://localhost:8080/"
        },
        "id": "q9990VG6pNZo",
        "outputId": "3cc7b468-b3ab-4aa9-abf3-2d682d3a9085"
      },
      "execution_count": null,
      "outputs": [
        {
          "output_type": "stream",
          "name": "stdout",
          "text": [
            "Number of rows:3\n",
            "Number of columns:3\n",
            "Entries per row (separated by space): \n",
            "1 0 0 0 1 0 0 0 1\n",
            "\n",
            "Matrix:\n",
            "[[1 0 0]\n",
            " [0 1 0]\n",
            " [0 0 1]]\n",
            "\n",
            "Shape:\t(3, 3)\n",
            "Rank:\t2\n",
            "Is Square: True\n",
            "The matrix is not empty\n",
            "The matrix is an identity matrix.\n",
            "The matrix has non-zero items\n",
            "The matrix non-ones items\n"
          ]
        }
      ]
    },
    {
      "cell_type": "code",
      "source": [
        "## Function area"
      ],
      "metadata": {
        "id": "TUTqIdRDKw_Y"
      },
      "execution_count": null,
      "outputs": []
    },
    {
      "cell_type": "code",
      "source": [
        "## Matrix declarations"
      ],
      "metadata": {
        "id": "7cKjlmo_OGXn"
      },
      "execution_count": null,
      "outputs": []
    },
    {
      "cell_type": "code",
      "source": [
        "## Test Areas"
      ],
      "metadata": {
        "id": "NcjDR9tvOJKs"
      },
      "execution_count": null,
      "outputs": []
    },
    {
      "cell_type": "markdown",
      "source": [
        "### Task 2"
      ],
      "metadata": {
        "id": "mx5EkSsYOPd9"
      }
    },
    {
      "cell_type": "markdown",
      "source": [
        "Create a function named `mat_operations()` that takes in two matrices a input parameters it should:<br>\n",
        " 1. Determines if the matrices are viable for operation and returns your own error message if they are not viable.\n",
        " 2. Returns the sum of the matrices.\n",
        " 3. Returns the differen of the matrices.\n",
        " 4. Returns the element-wise multiplication of the matrices.\n",
        " 5. Returns the element-wise division of the matrices.\n",
        "\n",
        "Use 3 sample matrices in which their shapes are not lower than $(3,3)$.\n",
        "In your methodology, create a flowchart discuss the functions and methods you have done. Present your results in the results section showing the description of each matrix you have declared."
      ],
      "metadata": {
        "id": "ptmuDBtRORIr"
      }
    },
    {
      "cell_type": "code",
      "source": [
        "import numpy as np \n",
        "import matplotlib.pyplot as plt\n",
        "import scipy.linalg as la\n",
        "%matplotlib inline\n",
        "X = int(input(\"Number of rows for 1st Matrix: \"))\n",
        "Y = int(input(\"Number of columns for 1st Matrix: \")) \n",
        "print(\"Entries per row (separated by space): \")  \n",
        "entries_1 = list(map(int, input().split()))\n",
        " \n",
        "num_entries_1 = len(entries_1)\n",
        "area_dim_1 = X*Y\n",
        "\n",
        "def describe_mat(matrix):\n",
        "  is_square = True if matrix.shape[0] == matrix.shape[1] else False\n",
        "  print(f'\\nMatrix:\\n{matrix}\\n\\nShape:\\t{matrix.shape}\\nRank:\\t{matrix.ndim}\\nIs Square: {is_square}\\n\\n')\n",
        "\n",
        "##validation if the number of entry is not inclined in the product of row and column.\n",
        "if (area_dim_1 != num_entries_1):\n",
        "  print(\"Invalid input of entry. Your number of entries must be equal to the product of row and column.\")\n",
        "  raise ValueError(\"Error! Please enter the correct number of series in entry.\")\n",
        "\n",
        "matrix_1 = np.array(entries_1).reshape(X, Y)\n",
        "\n",
        "describe_mat (matrix_1)\n",
        "###############################################################################################################\n",
        "A = int(input(\"Number of rows for 2nd Matrix: \"))\n",
        "B = int(input(\"Number of colums for 2nd Matrix: \"))\n",
        "print(\"Entries per row (separated by space): \")\n",
        "entries_2 = list(map(int, input().split()))\n",
        "\n",
        "num_entries_2 = len(entries_2)\n",
        "area_dim_2 = A*B\n",
        "\n",
        "##validation if the number of entry is not inclined in the product of row and column.\n",
        "if (area_dim_2 != num_entries_2):\n",
        "  print(\"Invalid input of entry. Your number of entries must be equal to the product of row and column.\")\n",
        "  raise ValueError(\"Error! Please enter the correct number of series in entry.\")\n",
        "\n",
        "matrix_2 = np.array(entries_2).reshape(A, B)\n",
        "describe_mat (matrix_2)\n",
        "#################################################################################################################\n",
        "dec_operation = input (\"Enter Your Desired Operation (+,-,*,/) : \")\n",
        "####################################ADDITION######################################################################\n",
        "if dec_operation == '+' or dec_operation.lower() == \"addition\": \n",
        "  Matrix_sum = matrix_1 + matrix_2\n",
        "  print(\"The Sum of the two Matrices are: \\n{}\".format(Matrix_sum))\n",
        "####################################SUBTRACTION###################################################################\n",
        "if dec_operation == '-' or dec_operation.lower() == \"subtraction\": \n",
        "  Matrix_diff = matrix_1 - matrix_2\n",
        "  print(\"The Difference of the two Matrices are: \\n{}\".format(Matrix_diff))\n",
        "####################################MULTIPLICATION################################################################\n",
        "if dec_operation == '*' or dec_operation.lower() == \"multiplication\": \n",
        "  Matrix_prod = matrix_1 * matrix_2\n",
        "  print(\"The Product of the two Matrices are: \\n{}\".format(Matrix_prod))\n",
        "#####################################DIVISION#####################################################################\n",
        "if dec_operation == '/' or dec_operation.lower() == \"division\": \n",
        "  Matrix_quo = matrix_1 / matrix_2\n",
        "  print(\"The Quotient of the two Matrices are: \\n{}\".format(Matrix_quo))\n",
        "##################################################################################################################"
      ],
      "metadata": {
        "colab": {
          "base_uri": "https://localhost:8080/"
        },
        "id": "KE9-Y2EmpdmP",
        "outputId": "e4a1cd69-cb87-4766-d458-dba30a322434"
      },
      "execution_count": null,
      "outputs": [
        {
          "output_type": "stream",
          "name": "stdout",
          "text": [
            "Number of rows for 1st Matrix: 3\n",
            "Number of columns for 1st Matrix: 3\n",
            "Entries per row (separated by space): \n",
            "1 4 5 6 7 8 3 4 6\n",
            "\n",
            "Matrix:\n",
            "[[1 4 5]\n",
            " [6 7 8]\n",
            " [3 4 6]]\n",
            "\n",
            "Shape:\t(3, 3)\n",
            "Rank:\t2\n",
            "Is Square: True\n",
            "\n",
            "\n",
            "Number of rows for 2nd Matrix: 3\n",
            "Number of colums for 2nd Matrix: 3\n",
            "Entries per row (separated by space): \n",
            "3 5 2 6 7 5 2 4 1\n",
            "\n",
            "Matrix:\n",
            "[[3 5 2]\n",
            " [6 7 5]\n",
            " [2 4 1]]\n",
            "\n",
            "Shape:\t(3, 3)\n",
            "Rank:\t2\n",
            "Is Square: True\n",
            "\n",
            "\n",
            "Enter Your Desired Operation (+,-,*,/) : *\n",
            "The Product of the two Matrices are: \n",
            "[[ 3 20 10]\n",
            " [36 49 40]\n",
            " [ 6 16  6]]\n"
          ]
        }
      ]
    },
    {
      "cell_type": "code",
      "source": [
        ""
      ],
      "metadata": {
        "id": "95qxe8l_OXxi"
      },
      "execution_count": null,
      "outputs": []
    },
    {
      "cell_type": "code",
      "source": [
        ""
      ],
      "metadata": {
        "id": "1kDdmerbOX9c"
      },
      "execution_count": null,
      "outputs": []
    },
    {
      "cell_type": "code",
      "source": [
        ""
      ],
      "metadata": {
        "id": "AoyGSIcnOYHz"
      },
      "execution_count": null,
      "outputs": []
    },
    {
      "cell_type": "markdown",
      "source": [
        "## Conclusion"
      ],
      "metadata": {
        "id": "MGh637_hOYXU"
      }
    },
    {
      "cell_type": "markdown",
      "source": [
        "For your conclusion synthesize the concept and application of the laboratory. Briefly discuss what you have learned and achieved in this activity. Also answer the question: \"How can matrix operations solve problems in technology?\"."
      ],
      "metadata": {
        "id": "vVZGB1S3Oa6W"
      }
    },
    {
      "cell_type": "markdown",
      "source": [
        "(Conclusion from the Lab Report)\n",
        "\n",
        "The basic knowledge about declaring matrices, classifying matrices, and matrix algebra has been understood by the students. The students demonstrated the understanding that they have by creating two programs that integrate the principle of matrix in Python. The first program determines the classification of the matrix, and the second program would apply the principles of matrix algebra As such, it will serve as a foundation in order for the students to create and execute a comparatively more complex program.\n",
        "\n",
        "\n",
        "With all of this in mind, applying these concepts to the way how technology is being used, it will make calculations, approximation, and processing easier and faster. For instance, applying the principle of multiplication of matrices, it could aid in hastening the process of digital videos and sounds. Furthermore, matrices could also be used to create representations of wireless signals in order to increase their efficiency. Matrices themselves play a crucial role when it comes to estimating signals and detecting problems in signal. As such, it is a conclusive fact that matrices are involved in solving and alleviating the problems encountered when technologies are used.\n"
      ],
      "metadata": {
        "id": "gTJ71FNsrzLE"
      }
    }
  ]
}