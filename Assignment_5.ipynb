{
  "nbformat": 4,
  "nbformat_minor": 0,
  "metadata": {
    "colab": {
      "name": "Assignment 5",
      "provenance": [],
      "authorship_tag": "ABX9TyOfnKl4JSJX44f4de7p7rkm",
      "include_colab_link": true
    },
    "kernelspec": {
      "name": "python3",
      "display_name": "Python 3"
    },
    "language_info": {
      "name": "python"
    }
  },
  "cells": [
    {
      "cell_type": "markdown",
      "metadata": {
        "id": "view-in-github",
        "colab_type": "text"
      },
      "source": [
        "<a href=\"https://colab.research.google.com/github/Astraplas/LinearAlgebra_2ndSem/blob/main/Assignment_5.ipynb\" target=\"_parent\"><img src=\"https://colab.research.google.com/assets/colab-badge.svg\" alt=\"Open In Colab\"/></a>"
      ]
    },
    {
      "cell_type": "markdown",
      "source": [
        "# Linear Algebra for CHE\n",
        "## Laboratory 6 : Matrix Operations"
      ],
      "metadata": {
        "id": "xr1CGK9fsTcC"
      }
    },
    {
      "cell_type": "markdown",
      "source": [
        "Now that you have a fundamental knowledge about representing and operating with vectors as well as the fundamentals of matrices, we'll try to the same operations with matrices and even more."
      ],
      "metadata": {
        "id": "kqeM2qdUsaZE"
      }
    },
    {
      "cell_type": "markdown",
      "source": [
        "## Objectives\n",
        "At the end of this activity you will be able to:\n",
        "\n",
        "1. Be familiar with the fundamental matrix operations.\n",
        "2. Apply the operations to solve intemrediate equations.\n",
        "3. Apply matrix algebra in engineering solutions."
      ],
      "metadata": {
        "id": "fMr-UYDhseeT"
      }
    },
    {
      "cell_type": "markdown",
      "source": [
        "# Discussion"
      ],
      "metadata": {
        "id": "bgw_crxGso-d"
      }
    },
    {
      "cell_type": "markdown",
      "source": [
        "The codes below will serve as the foundation to be used in the matrix operation codes to be created."
      ],
      "metadata": {
        "id": "hBsVWrCnBNln"
      }
    },
    {
      "cell_type": "code",
      "source": [
        "import numpy as np\n",
        "import matplotlib.pyplot as plt\n",
        "%matplotlib inline"
      ],
      "metadata": {
        "id": "zB7tU8clsrIY"
      },
      "execution_count": 1,
      "outputs": []
    },
    {
      "cell_type": "markdown",
      "source": [
        "# Transposition\n",
        "\n",
        " \n"
      ],
      "metadata": {
        "id": "n3d6AJSHszNn"
      }
    },
    {
      "cell_type": "markdown",
      "source": [
        "One of the fundamental operations in matrix algebra is Transposition. The transpose of a matrix is done by flipping the values of its elements over its diagonals. With this, the rows and columns from the original matrix will be switched. So for a matrix $A$ its transpose is denoted as $A^T$. So for example:\n"
      ],
      "metadata": {
        "id": "ffJScFM7s3kU"
      }
    },
    {
      "cell_type": "markdown",
      "source": [
        ":$$\n",
        "A=\\begin{bmatrix} 1 & 2 & 5 \\\\ 5 & -1 & 0 \\\\ 0 & -3 & 3\\end{bmatrix} \\\\\n",
        "A^T=\\begin{bmatrix} 1 & 5 & 0\\\\ 2 & -1 & -3\\\\ 5 & 0 & 3\\end{bmatrix}\n",
        "$$"
      ],
      "metadata": {
        "id": "W7gP5LUhtNbY"
      }
    },
    {
      "cell_type": "markdown",
      "source": [
        "his can now be achieved programmatically by using np.transpose() or using the T method."
      ],
      "metadata": {
        "id": "71k68j5Ct2fk"
      }
    },
    {
      "cell_type": "code",
      "source": [
        "A = np.array([\n",
        "    [1 ,2, 5],\n",
        "    [5, -1, 0],\n",
        "    [0, -3, 3]\n",
        "])\n",
        "A"
      ],
      "metadata": {
        "colab": {
          "base_uri": "https://localhost:8080/"
        },
        "id": "Nn23MwA_uAdM",
        "outputId": "8850b4fa-17a2-4a27-9e7a-ff2fc34ca83a"
      },
      "execution_count": null,
      "outputs": [
        {
          "output_type": "execute_result",
          "data": {
            "text/plain": [
              "array([[ 1,  2,  5],\n",
              "       [ 5, -1,  0],\n",
              "       [ 0, -3,  3]])"
            ]
          },
          "metadata": {},
          "execution_count": 5
        }
      ]
    },
    {
      "cell_type": "code",
      "source": [
        "AT1 = np.transpose(A)\n",
        "AT1"
      ],
      "metadata": {
        "colab": {
          "base_uri": "https://localhost:8080/"
        },
        "id": "Qaf1vJC5uEco",
        "outputId": "247aaf19-6242-4ec8-b2ef-4589776c7577"
      },
      "execution_count": null,
      "outputs": [
        {
          "output_type": "execute_result",
          "data": {
            "text/plain": [
              "array([[ 1,  5,  0],\n",
              "       [ 2, -1, -3],\n",
              "       [ 5,  0,  3]])"
            ]
          },
          "metadata": {},
          "execution_count": 7
        }
      ]
    },
    {
      "cell_type": "code",
      "source": [
        "AT2 = A.T"
      ],
      "metadata": {
        "id": "cp79Cb_xuSxj"
      },
      "execution_count": null,
      "outputs": []
    },
    {
      "cell_type": "code",
      "source": [
        "np.array_equiv(AT1, AT2)"
      ],
      "metadata": {
        "colab": {
          "base_uri": "https://localhost:8080/"
        },
        "id": "aasyoe9puVoD",
        "outputId": "4588d5c4-3512-4609-b33f-7e481cdf1ac3"
      },
      "execution_count": null,
      "outputs": [
        {
          "output_type": "execute_result",
          "data": {
            "text/plain": [
              "True"
            ]
          },
          "metadata": {},
          "execution_count": 9
        }
      ]
    },
    {
      "cell_type": "code",
      "source": [
        "B = np.array([\n",
        "    [40,13,55,32],\n",
        "    [32,12,64,21],\n",
        "])\n",
        "B.shape"
      ],
      "metadata": {
        "colab": {
          "base_uri": "https://localhost:8080/"
        },
        "id": "o9_1jCSNua3_",
        "outputId": "7633e890-e3a7-4259-ecc0-a7ed22bd4d98"
      },
      "execution_count": null,
      "outputs": [
        {
          "output_type": "execute_result",
          "data": {
            "text/plain": [
              "(2, 4)"
            ]
          },
          "metadata": {},
          "execution_count": 35
        }
      ]
    },
    {
      "cell_type": "code",
      "source": [
        "np.transpose(B).shape"
      ],
      "metadata": {
        "colab": {
          "base_uri": "https://localhost:8080/"
        },
        "id": "fxJFnFE2ulGO",
        "outputId": "5859a1e1-0e61-4237-ae0d-6274c687b35e"
      },
      "execution_count": null,
      "outputs": [
        {
          "output_type": "execute_result",
          "data": {
            "text/plain": [
              "(4, 2)"
            ]
          },
          "metadata": {},
          "execution_count": 11
        }
      ]
    },
    {
      "cell_type": "code",
      "source": [
        "B.T.shape"
      ],
      "metadata": {
        "colab": {
          "base_uri": "https://localhost:8080/"
        },
        "id": "f4LjCwosuoDr",
        "outputId": "39ca3636-bfd8-44ca-fc3c-189522655b86"
      },
      "execution_count": null,
      "outputs": [
        {
          "output_type": "execute_result",
          "data": {
            "text/plain": [
              "(4, 2)"
            ]
          },
          "metadata": {},
          "execution_count": 12
        }
      ]
    },
    {
      "cell_type": "markdown",
      "source": [
        "The codes mentioned above have simply interconverted the rows and columns of the given matrices"
      ],
      "metadata": {
        "id": "W9e5lbO8Bcef"
      }
    },
    {
      "cell_type": "markdown",
      "source": [
        "##### Try to create your own matrix (you can try non-squares) to test transposition."
      ],
      "metadata": {
        "id": "XgyjfD9yutT5"
      }
    },
    {
      "cell_type": "code",
      "source": [
        ""
      ],
      "metadata": {
        "id": "5jntcTuTuww5"
      },
      "execution_count": 1,
      "outputs": []
    },
    {
      "cell_type": "markdown",
      "source": [
        "## Dot Product / Inner Product"
      ],
      "metadata": {
        "id": "3dkrhuY6u9LN"
      }
    },
    {
      "cell_type": "markdown",
      "source": [
        "If you recall the dot product from laboratory activity before, we will try to implement the same operation with matrices. In matrix dot product we are going to get the sum of products of the vectors by row-column pairs. So if we have two matrices $X$ and $Y$:"
      ],
      "metadata": {
        "id": "hbednT9-vFQ5"
      }
    },
    {
      "cell_type": "markdown",
      "source": [
        "$$X=\\begin{bmatrix}\n",
        "x_{(0,0)}& x_{(0,1)}\\\\\n",
        "x_{(1,0)}& x_{(1,1)}\\\\\n",
        "\\end{bmatrix}\n",
        ",\n",
        "Y=\\begin{bmatrix}\n",
        "y_{(0,0)}& y_{(0,1)}\\\\\n",
        "y_{(1,0)}& y_{(1,1)}\\\\\n",
        "\\end{bmatrix}\n",
        "$$\n"
      ],
      "metadata": {
        "id": "j4INBgA9vhe-"
      }
    },
    {
      "cell_type": "markdown",
      "source": [
        "The dot product will then be computed as:"
      ],
      "metadata": {
        "id": "Byu9jeqDv_kF"
      }
    },
    {
      "cell_type": "markdown",
      "source": [
        "$$X=\\begin{bmatrix}\n",
        "x_{(0,0)}*y_{(0,0)} + x_{(0,1)}*y_{(1,0)} & x_{(0,0)}*y_{(0,1)} + x_{(0,1)}*y_{(1,1)}\\\\\n",
        "x_{(1,0)}*y_{(0,0)} + x_{(1,1)}*y_{(1,0)} & x_{(1,0)}*y_{(0,1)} + x_{(1,1)}*y_{(1,1)}\\\\\n",
        "\\end{bmatrix}\n",
        "$$\n"
      ],
      "metadata": {
        "id": "NivUOh4WwAZk"
      }
    },
    {
      "cell_type": "markdown",
      "source": [
        "So if we assign values to $X$ and $Y$:\n"
      ],
      "metadata": {
        "id": "Y00Qfy5uw7me"
      }
    },
    {
      "cell_type": "markdown",
      "source": [
        ":$$\n",
        "X=\\begin{bmatrix} 1 & 2\\\\ 0 & 1\\end{bmatrix}\n",
        ",\n",
        "Y=\\begin{bmatrix} -1 & 0\\\\ 2 & 2\\end{bmatrix}\n",
        "$$"
      ],
      "metadata": {
        "id": "gTXc460SxDT2"
      }
    },
    {
      "cell_type": "markdown",
      "source": [
        ":$$\n",
        "X⋅Y=\\begin{bmatrix} 1*-1 + 2*2 & 1*0 + 2*2\\\\ 0*-1 + 1*2 & 0*0 + 1*2\\end{bmatrix} =\n",
        "\\begin{bmatrix} 3 & 4\\\\ 2 & 2\\end{bmatrix}\n",
        "$$"
      ],
      "metadata": {
        "id": "6qckTeokxhkc"
      }
    },
    {
      "cell_type": "markdown",
      "source": [
        "This could be achieved programmatically using np.dot(), np.matmul() or the @ operator."
      ],
      "metadata": {
        "id": "XpyDO2_vzn6h"
      }
    },
    {
      "cell_type": "code",
      "source": [
        "X = np.array([\n",
        "    [3,4,6],\n",
        "    [1,6,7],\n",
        "    [6,3,0]\n",
        "])\n",
        "Y = np.array([\n",
        "    [4,-2,5],\n",
        "    [5,7,-4],\n",
        "    [5,1,-8]\n",
        "])"
      ],
      "metadata": {
        "id": "tvpTpFsHzp73"
      },
      "execution_count": null,
      "outputs": []
    },
    {
      "cell_type": "code",
      "source": [
        "np.dot(X,Y)"
      ],
      "metadata": {
        "colab": {
          "base_uri": "https://localhost:8080/"
        },
        "id": "J5uTte3ezs78",
        "outputId": "d325de06-36cb-49d6-e134-d1d4df6f5401"
      },
      "execution_count": null,
      "outputs": [
        {
          "output_type": "execute_result",
          "data": {
            "text/plain": [
              "array([[ 62,  28, -49],\n",
              "       [ 69,  47, -75],\n",
              "       [ 39,   9,  18]])"
            ]
          },
          "metadata": {},
          "execution_count": 37
        }
      ]
    },
    {
      "cell_type": "code",
      "source": [
        "X.dot(Y)"
      ],
      "metadata": {
        "colab": {
          "base_uri": "https://localhost:8080/"
        },
        "id": "B2HHmiSBzv4f",
        "outputId": "7516247b-a4d4-48e5-935c-c9ac1bf0824e"
      },
      "execution_count": null,
      "outputs": [
        {
          "output_type": "execute_result",
          "data": {
            "text/plain": [
              "array([[ 62,  28, -49],\n",
              "       [ 69,  47, -75],\n",
              "       [ 39,   9,  18]])"
            ]
          },
          "metadata": {},
          "execution_count": 38
        }
      ]
    },
    {
      "cell_type": "code",
      "source": [
        "X @ Y"
      ],
      "metadata": {
        "colab": {
          "base_uri": "https://localhost:8080/"
        },
        "id": "3pABGADQzywg",
        "outputId": "cc623eb1-f3da-4b7f-abd1-2939fbd54813"
      },
      "execution_count": null,
      "outputs": [
        {
          "output_type": "execute_result",
          "data": {
            "text/plain": [
              "array([[ 62,  28, -49],\n",
              "       [ 69,  47, -75],\n",
              "       [ 39,   9,  18]])"
            ]
          },
          "metadata": {},
          "execution_count": 39
        }
      ]
    },
    {
      "cell_type": "code",
      "source": [
        "np.matmul(X,Y)"
      ],
      "metadata": {
        "colab": {
          "base_uri": "https://localhost:8080/"
        },
        "id": "pXjIpZq0z2jB",
        "outputId": "a20bc398-e5e9-4e58-a961-5e6fce9e4091"
      },
      "execution_count": null,
      "outputs": [
        {
          "output_type": "execute_result",
          "data": {
            "text/plain": [
              "array([[ 62,  28, -49],\n",
              "       [ 69,  47, -75],\n",
              "       [ 39,   9,  18]])"
            ]
          },
          "metadata": {},
          "execution_count": 40
        }
      ]
    },
    {
      "cell_type": "markdown",
      "source": [
        "In matrix dot products there are additional rules compared with vector dot products. Since vector dot products were just in one dimension there are less restrictions. Since now we are dealing with Rank 2 vectors we need to consider some rules:"
      ],
      "metadata": {
        "id": "OBWrZyZ4z6zR"
      }
    },
    {
      "cell_type": "markdown",
      "source": [
        "## Rule 1: The inner dimensions of the two matrices in question must be the same."
      ],
      "metadata": {
        "id": "MRE4GeA5z9rF"
      }
    },
    {
      "cell_type": "markdown",
      "source": [
        "So given a matrix $A$ with a shape of $(a,b)$ where $a$ and $b$ are any integers. If we want to do a dot product between $A$ and $B$ another matrix , then matrix $B$ should have a shape of $(b,c)$ where $b$ and $c$ are any integers. So for given the following matrices:"
      ],
      "metadata": {
        "id": "KJ-vm8870BfV"
      }
    },
    {
      "cell_type": "markdown",
      "source": [
        "$$\n",
        "Q=\\begin{bmatrix} 5 & 5 & 5\\\\ 6 & 7 & -2\\end{bmatrix},\n",
        "R=\\begin{bmatrix} 4 & 5 & 6\\\\ 9 & 0 & 1\\end{bmatrix},\n",
        "S=\\begin{bmatrix} 1 & 6\\\\ 3 & 2\\\\ 4 & 6\\end{bmatrix}\n",
        "$$"
      ],
      "metadata": {
        "id": "RT2ohap30sGe"
      }
    },
    {
      "cell_type": "markdown",
      "source": [
        "So in this case $A$ has a shape of $(3,2)$, $B$ has a shape of $(3,2)$ and $C$ has a shape of $(2,3)$ . So the only matrix pairs that is eligible to perform dot product is matrices $A⋅C$ or $B⋅C$."
      ],
      "metadata": {
        "id": "M5Y8qyWZ1qD-"
      }
    },
    {
      "cell_type": "code",
      "source": [
        "Q = np.array([\n",
        "    [5, 5, 5],\n",
        "    [6, 7, -2]\n",
        "])\n",
        "R = np.array([\n",
        "    [4,5,6],\n",
        "    [9,0,1]\n",
        "])\n",
        "S = np.array([\n",
        "    [1,6],\n",
        "    [3,2],\n",
        "    [4,6]\n",
        "])\n",
        "print(Q.shape)\n",
        "print(R.shape)\n",
        "print(S.shape)\n"
      ],
      "metadata": {
        "colab": {
          "base_uri": "https://localhost:8080/"
        },
        "id": "1zueBfsS23ju",
        "outputId": "423964dc-0842-4be4-9923-a88a444d1111"
      },
      "execution_count": null,
      "outputs": [
        {
          "output_type": "stream",
          "name": "stdout",
          "text": [
            "(2, 3)\n",
            "(2, 3)\n",
            "(3, 2)\n"
          ]
        }
      ]
    },
    {
      "cell_type": "code",
      "source": [
        "Q @ S"
      ],
      "metadata": {
        "colab": {
          "base_uri": "https://localhost:8080/"
        },
        "id": "F2tl-GLw26eC",
        "outputId": "762cd5b9-4a49-4cb3-c32a-bb8328dca74b"
      },
      "execution_count": null,
      "outputs": [
        {
          "output_type": "execute_result",
          "data": {
            "text/plain": [
              "array([[40, 70],\n",
              "       [19, 38]])"
            ]
          },
          "metadata": {},
          "execution_count": 57
        }
      ]
    },
    {
      "cell_type": "code",
      "source": [
        "R @ S"
      ],
      "metadata": {
        "colab": {
          "base_uri": "https://localhost:8080/"
        },
        "id": "clf6Wo30294s",
        "outputId": "34d505c4-7393-49a0-f5c4-499dbf813b54"
      },
      "execution_count": null,
      "outputs": [
        {
          "output_type": "execute_result",
          "data": {
            "text/plain": [
              "array([[43, 70],\n",
              "       [13, 60]])"
            ]
          },
          "metadata": {},
          "execution_count": 58
        }
      ]
    },
    {
      "cell_type": "markdown",
      "source": [
        "If you would notice the shape of the dot product changed and its shape is not the same as any of the matrices we used. The shape of a dot product is actually derived from the shapes of the matrices used. So recall matrix $A$ with a shape of $(a,b)$ and matrix $B$ with a shape of $(b,c)$, $A⋅B$ should have a shape $(a,c)$."
      ],
      "metadata": {
        "id": "XgD7hSie3Buk"
      }
    },
    {
      "cell_type": "code",
      "source": [
        "Q @ R.T"
      ],
      "metadata": {
        "colab": {
          "base_uri": "https://localhost:8080/"
        },
        "id": "AAIzHOUl3fKH",
        "outputId": "60eab872-1501-4b90-ed7b-fc400c57dc07"
      },
      "execution_count": null,
      "outputs": [
        {
          "output_type": "execute_result",
          "data": {
            "text/plain": [
              "array([[75, 50],\n",
              "       [47, 52]])"
            ]
          },
          "metadata": {},
          "execution_count": 47
        }
      ]
    },
    {
      "cell_type": "code",
      "source": [
        "X = np.array([\n",
        "    [1,2,3,0]\n",
        "])\n",
        "Y = np.array([\n",
        "    [1,0,4,-1]\n",
        "])\n",
        "print(X.shape)\n",
        "print(Y.shape)"
      ],
      "metadata": {
        "colab": {
          "base_uri": "https://localhost:8080/"
        },
        "id": "PtoFtQWp3iWS",
        "outputId": "d44d5a88-121b-4a22-9a48-84c972ddeb7b"
      },
      "execution_count": null,
      "outputs": [
        {
          "output_type": "stream",
          "name": "stdout",
          "text": [
            "(1, 4)\n",
            "(1, 4)\n"
          ]
        }
      ]
    },
    {
      "cell_type": "code",
      "source": [
        "R.T @ Q"
      ],
      "metadata": {
        "colab": {
          "base_uri": "https://localhost:8080/"
        },
        "id": "u1OWLw1E3ldf",
        "outputId": "d770aaa6-d82c-4830-c1ff-67a606347d75"
      },
      "execution_count": null,
      "outputs": [
        {
          "output_type": "execute_result",
          "data": {
            "text/plain": [
              "array([[74, 83,  2],\n",
              "       [25, 25, 25],\n",
              "       [36, 37, 28]])"
            ]
          },
          "metadata": {},
          "execution_count": 48
        }
      ]
    },
    {
      "cell_type": "markdown",
      "source": [
        "And you can see that when you try to multiply A and B, it returns ValueError pertaining to matrix shape mismatch."
      ],
      "metadata": {
        "id": "2Ko1WURQ3oiX"
      }
    },
    {
      "cell_type": "markdown",
      "source": [
        "## Rule 2: Dot Product has special properties"
      ],
      "metadata": {
        "id": "UNJm40cP3r6G"
      }
    },
    {
      "cell_type": "markdown",
      "source": [
        "Dot products are prevalent in matrix algebra, this implies that it has several unique properties and it should be considered when formulation solutions:"
      ],
      "metadata": {
        "id": "P7GcxPca3uqx"
      }
    },
    {
      "cell_type": "markdown",
      "source": [
        "1. $A \\cdot B \\neq B \\cdot A$\n",
        "2. $A \\cdot (B \\cdot C) = (A \\cdot B) \\cdot C$\n",
        "3. $A\\cdot(B+C) = A\\cdot B + A\\cdot C$\n",
        "4. $(B+C)\\cdot A = B\\cdot A + C\\cdot A$\n",
        "5. $A\\cdot I = A$\n",
        "6. $A\\cdot \\emptyset = \\emptyset$\n"
      ],
      "metadata": {
        "id": "xGc4rfVB318K"
      }
    },
    {
      "cell_type": "markdown",
      "source": [
        "I'll be doing just one of the properties and I'll leave the rest to test your skills!"
      ],
      "metadata": {
        "id": "3RQ0W7p56gQQ"
      }
    },
    {
      "cell_type": "code",
      "source": [
        "H = np.array([\n",
        "    [5,6,11],\n",
        "    [7,4,10],\n",
        "    [8,7,0]\n",
        "])\n",
        "I = np.array([\n",
        "    [7,18,26],\n",
        "    [44,31,0],\n",
        "    [5,5,6]\n",
        "])\n",
        "J = np.array([\n",
        "    [3,0,1],\n",
        "    [6,0,2],\n",
        "    [7,8,8]\n",
        "])"
      ],
      "metadata": {
        "id": "8-JOSt0R6jX1"
      },
      "execution_count": null,
      "outputs": []
    },
    {
      "cell_type": "code",
      "source": [
        "H.dot(np.zeros(H.shape))"
      ],
      "metadata": {
        "colab": {
          "base_uri": "https://localhost:8080/"
        },
        "id": "9oeguTyl6lh5",
        "outputId": "65d2b408-2609-4256-deb6-d7c33b35cb7d"
      },
      "execution_count": null,
      "outputs": [
        {
          "output_type": "execute_result",
          "data": {
            "text/plain": [
              "array([[0., 0., 0.],\n",
              "       [0., 0., 0.],\n",
              "       [0., 0., 0.]])"
            ]
          },
          "metadata": {},
          "execution_count": 50
        }
      ]
    },
    {
      "cell_type": "code",
      "source": [
        "l_mat = np.zeros(H.shape)\n",
        "l_mat"
      ],
      "metadata": {
        "colab": {
          "base_uri": "https://localhost:8080/"
        },
        "id": "SOzWf3MR6oz0",
        "outputId": "23b5ad0c-9150-4cdf-f606-2c4fbf46fdfb"
      },
      "execution_count": null,
      "outputs": [
        {
          "output_type": "execute_result",
          "data": {
            "text/plain": [
              "array([[0., 0., 0.],\n",
              "       [0., 0., 0.],\n",
              "       [0., 0., 0.]])"
            ]
          },
          "metadata": {},
          "execution_count": 51
        }
      ]
    },
    {
      "cell_type": "code",
      "source": [
        "r_dot_l = H.dot(np.zeros(H.shape))\n",
        "r_dot_l"
      ],
      "metadata": {
        "colab": {
          "base_uri": "https://localhost:8080/"
        },
        "id": "SBKWjPuo6r0j",
        "outputId": "af7958d0-413f-4cdd-b6d8-ba0fe89a1e1c"
      },
      "execution_count": null,
      "outputs": [
        {
          "output_type": "execute_result",
          "data": {
            "text/plain": [
              "array([[0., 0., 0.],\n",
              "       [0., 0., 0.],\n",
              "       [0., 0., 0.]])"
            ]
          },
          "metadata": {},
          "execution_count": 52
        }
      ]
    },
    {
      "cell_type": "code",
      "source": [
        "np.array_equal(r_dot_l,l_mat)"
      ],
      "metadata": {
        "colab": {
          "base_uri": "https://localhost:8080/"
        },
        "id": "YwrcQINK6t42",
        "outputId": "49985253-2da6-46a4-b071-a2ccb58c41f8"
      },
      "execution_count": null,
      "outputs": [
        {
          "output_type": "execute_result",
          "data": {
            "text/plain": [
              "True"
            ]
          },
          "metadata": {},
          "execution_count": 53
        }
      ]
    },
    {
      "cell_type": "code",
      "source": [
        "null_mat = np.empty(H.shape, dtype=float)\n",
        "null = np.array(null_mat,dtype=float)\n",
        "print(null)\n",
        "np.allclose(r_dot_l,null)"
      ],
      "metadata": {
        "colab": {
          "base_uri": "https://localhost:8080/"
        },
        "id": "BkPfk0U46wAy",
        "outputId": "9acddad1-198e-4a0c-80c4-082893279b61"
      },
      "execution_count": null,
      "outputs": [
        {
          "output_type": "stream",
          "name": "stdout",
          "text": [
            "[[0. 0. 0.]\n",
            " [0. 0. 0.]\n",
            " [0. 0. 0.]]\n"
          ]
        },
        {
          "output_type": "execute_result",
          "data": {
            "text/plain": [
              "True"
            ]
          },
          "metadata": {},
          "execution_count": 55
        }
      ]
    },
    {
      "cell_type": "code",
      "source": [
        "K = H.dot(I)\n",
        "L = I.dot(H)\n",
        "print(K)\n",
        "print(L)\n",
        "  \n",
        "row1 = len(K);  \n",
        "col1 = len(K[0]);  \n",
        " \n",
        "row2 = len(L);  \n",
        "col2 = len(L[0]);  \n",
        "  \n",
        "if(row1 != row2 or col1 != col2):  \n",
        "    print(\"Matrices are not equal\"); \n",
        "else:  \n",
        "    for i in range(0, row1):  \n",
        "        for j in range(0, col1):  \n",
        "            if(K[i][j] != L[i][j]):  \n",
        "                flag = False;  \n",
        "                break;  \n",
        "      \n",
        "    if(flag):  \n",
        "        print(\"Matrices are equal\");  \n",
        "    else:  \n",
        "        print(\"Matrices are not equal. Therefore A⋅B ≠ B⋅A\"); "
      ],
      "metadata": {
        "colab": {
          "base_uri": "https://localhost:8080/"
        },
        "id": "CloyYx_0Jf--",
        "outputId": "45849049-2d41-4652-e869-f3ef7a8d73a8"
      },
      "execution_count": null,
      "outputs": [
        {
          "output_type": "stream",
          "name": "stdout",
          "text": [
            "[[354 331 196]\n",
            " [275 300 242]\n",
            " [364 361 208]]\n",
            "[[369 296 257]\n",
            " [437 388 794]\n",
            " [108  92 105]]\n",
            "Matrices are not equal. Therefore A⋅B ≠ B⋅A\n"
          ]
        }
      ]
    },
    {
      "cell_type": "code",
      "source": [
        "v = print(H*(I*J))\n",
        "w = print((H*I)*J)\n",
        "\n",
        "if v == w:\n",
        "  print(\"Thus, A⋅(B⋅C)=(A⋅B)⋅C\")"
      ],
      "metadata": {
        "colab": {
          "base_uri": "https://localhost:8080/"
        },
        "id": "a21zTIesNMxa",
        "outputId": "2efbd4db-7e5c-47e9-9aa0-f578ad32fd30"
      },
      "execution_count": null,
      "outputs": [
        {
          "output_type": "stream",
          "name": "stdout",
          "text": [
            "[[ 105    0  286]\n",
            " [1848    0    0]\n",
            " [ 280  280    0]]\n",
            "[[ 105    0  286]\n",
            " [1848    0    0]\n",
            " [ 280  280    0]]\n",
            "Thus, A⋅(B⋅C)=(A⋅B)⋅C\n"
          ]
        }
      ]
    },
    {
      "cell_type": "code",
      "source": [
        "a = print(H*(I+J))\n",
        "b = print(H*I+H*J)\n",
        "if a == b:\n",
        "  print(\"Thus, A⋅(B+C)=A⋅B+A⋅C\")"
      ],
      "metadata": {
        "colab": {
          "base_uri": "https://localhost:8080/"
        },
        "id": "f5Y6i3SMPr0M",
        "outputId": "a0c9a64b-0679-4495-afe3-1571ab387a88"
      },
      "execution_count": null,
      "outputs": [
        {
          "output_type": "stream",
          "name": "stdout",
          "text": [
            "[[ 50 108 297]\n",
            " [350 124  20]\n",
            " [ 96  91   0]]\n",
            "[[ 50 108 297]\n",
            " [350 124  20]\n",
            " [ 96  91   0]]\n",
            "Thus, A⋅(B+C)=A⋅B+A⋅C\n"
          ]
        }
      ]
    },
    {
      "cell_type": "code",
      "source": [
        "c = print((I+J)*H)\n",
        "d= print(I*H+J*H)\n",
        "if c == d:\n",
        "  print(\"Thus, (B+C)⋅A=B⋅A+C⋅A\")"
      ],
      "metadata": {
        "colab": {
          "base_uri": "https://localhost:8080/"
        },
        "id": "F3cc1phpRdmH",
        "outputId": "574371b7-ae66-4679-92fe-09d098443bb2"
      },
      "execution_count": null,
      "outputs": [
        {
          "output_type": "stream",
          "name": "stdout",
          "text": [
            "[[ 50 108 297]\n",
            " [350 124  20]\n",
            " [ 96  91   0]]\n",
            "[[ 50 108 297]\n",
            " [350 124  20]\n",
            " [ 96  91   0]]\n",
            "Thus, (B+C)⋅A=B⋅A+C⋅A\n"
          ]
        }
      ]
    },
    {
      "cell_type": "code",
      "source": [
        "H.dot(1)"
      ],
      "metadata": {
        "colab": {
          "base_uri": "https://localhost:8080/"
        },
        "id": "p3s6rcfzSbg7",
        "outputId": "babe5a3e-c89c-49b0-e8df-d813b7ce5cb0"
      },
      "execution_count": null,
      "outputs": [
        {
          "output_type": "execute_result",
          "data": {
            "text/plain": [
              "array([[ 5,  6, 11],\n",
              "       [ 7,  4, 10],\n",
              "       [ 8,  7,  0]])"
            ]
          },
          "metadata": {},
          "execution_count": 27
        }
      ]
    },
    {
      "cell_type": "code",
      "source": [
        "H.dot(0)"
      ],
      "metadata": {
        "id": "DyZ7LM9qSfMe",
        "outputId": "8d810da6-38ae-4dc6-e7e0-4139dcd8585d",
        "colab": {
          "base_uri": "https://localhost:8080/"
        }
      },
      "execution_count": null,
      "outputs": [
        {
          "output_type": "execute_result",
          "data": {
            "text/plain": [
              "array([[0, 0, 0],\n",
              "       [0, 0, 0],\n",
              "       [0, 0, 0]])"
            ]
          },
          "metadata": {},
          "execution_count": 28
        }
      ]
    },
    {
      "cell_type": "markdown",
      "source": [
        "The codes mentioned above proves that the rule established for the special properties of the dot products are true."
      ],
      "metadata": {
        "id": "aaNjBdn4BrbZ"
      }
    },
    {
      "cell_type": "markdown",
      "source": [
        "## Determinant"
      ],
      "metadata": {
        "id": "pYPniS8r60WZ"
      }
    },
    {
      "cell_type": "markdown",
      "source": [
        "A determinant is a scalar value derived from a square matrix. The determinant is a fundamental and important value used in matrix algebra. Although it will not be evident in this laboratory on how it can be used practically, but it will be reatly used in future lessons.\n",
        "\n",
        "The determinant of some matrix $A$ is denoted as $det(A)$ or $|A|$. So let's say $A$ is represented as:"
      ],
      "metadata": {
        "id": "0sMJETy96341"
      }
    },
    {
      "cell_type": "markdown",
      "source": [
        "$$A=\\begin{bmatrix}\n",
        "a_{(0,0)}& a_{(0,1)}\\\\\n",
        "a_{(1,0)}& a_{(1,1)}\\\\\n",
        "\\end{bmatrix}\n",
        "$$\n"
      ],
      "metadata": {
        "id": "1AY3Vt6H7HZy"
      }
    },
    {
      "cell_type": "markdown",
      "source": [
        "We can compute for the determinant as:"
      ],
      "metadata": {
        "id": "9SFwWXLk7Ofn"
      }
    },
    {
      "cell_type": "markdown",
      "source": [
        "$$\n",
        "|A| = a_{(0,0)} * a_{(1,1)} - a_{(1,0)} * a_{(0,1)}\n",
        "$$\n"
      ],
      "metadata": {
        "id": "4k5nMsK87S7F"
      }
    },
    {
      "cell_type": "markdown",
      "source": [
        "So if we have $A$ as:"
      ],
      "metadata": {
        "id": "oFysDt208krG"
      }
    },
    {
      "cell_type": "markdown",
      "source": [
        "$$A=\\begin{bmatrix}\n",
        "1 & 4\\\\\n",
        "0 & 3\\\\\n",
        "\\end{bmatrix},\n",
        "|A| = 3\n",
        "$$\n"
      ],
      "metadata": {
        "id": "sb1jiF4p9PNT"
      }
    },
    {
      "cell_type": "markdown",
      "source": [
        "But you might wonder how about square matrices beyond the shape ? We can approach this problem by using several methods such as co-factor expansion and the minors method. This can be taught in the lecture of the laboratory but we can achieve the strenuous computation of high-dimensional matrices programmatically using Python. We can achieve this by using np.linalg.det()."
      ],
      "metadata": {
        "id": "UF0Sb9t09jr0"
      }
    },
    {
      "cell_type": "code",
      "source": [
        ""
      ],
      "metadata": {
        "id": "PbczXbqV9ll-"
      },
      "execution_count": null,
      "outputs": []
    },
    {
      "cell_type": "code",
      "source": [
        "A = np.array([\n",
        "    [58,32],\n",
        "    [71,36]\n",
        "])\n",
        "np.linalg.det(A)"
      ],
      "metadata": {
        "colab": {
          "base_uri": "https://localhost:8080/"
        },
        "id": "GZcmmAeK9lwy",
        "outputId": "f2cd398f-94a9-404b-c998-70788f955e85"
      },
      "execution_count": null,
      "outputs": [
        {
          "output_type": "execute_result",
          "data": {
            "text/plain": [
              "-184.00000000000006"
            ]
          },
          "metadata": {},
          "execution_count": 13
        }
      ]
    },
    {
      "cell_type": "code",
      "source": [
        "## Now other mathematics classes would require you to solve this by hand, \n",
        "## and that is great for practicing your memorization and coordination skills \n",
        "## but in this class we aim for simplicity and speed so we'll use programming\n",
        "## but it's completely fine if you want to try to solve this one by hand.\n",
        "B = np.array([\n",
        "    [54,321,53],\n",
        "    [90,13,10],\n",
        "    [34,192,81]\n",
        "])\n",
        "np.linalg.det(B)"
      ],
      "metadata": {
        "colab": {
          "base_uri": "https://localhost:8080/"
        },
        "id": "mxygJWk39o0k",
        "outputId": "24445bcf-0782-4cbb-f738-8232d11f2fd3"
      },
      "execution_count": null,
      "outputs": [
        {
          "output_type": "execute_result",
          "data": {
            "text/plain": [
              "-1385353.9999999995"
            ]
          },
          "metadata": {},
          "execution_count": 15
        }
      ]
    },
    {
      "cell_type": "markdown",
      "source": [
        "## Inverse"
      ],
      "metadata": {
        "id": "fRXm2c2O9yf3"
      }
    },
    {
      "cell_type": "markdown",
      "source": [
        "The inverse of a matrix is another fundamental operation in matrix algebra. Determining the inverse of a matrix let us determine if its solvability and its characteristic as a system of linear equation — we'll expand on this in the nect module. Another use of the inverse matrix is solving the problem of divisibility between matrices. Although element-wise division exists but dividing the entire concept of matrices does not exists. Inverse matrices provides a related operation that could have the same concept of \"dividing\" matrices.\n",
        "\n",
        "Now to determine the inverse of a matrix we need to perform several steps. So let's say we have a matrix $M$:"
      ],
      "metadata": {
        "id": "fMVpdj_A91W2"
      }
    },
    {
      "cell_type": "markdown",
      "source": [
        "$$A=\\begin{bmatrix}\n",
        "1 & 7\\\\\n",
        "-3 & 5\\\\\n",
        "\\end{bmatrix},\n",
        "|A| = 3\n",
        "$$\n"
      ],
      "metadata": {
        "id": "tJTkwmBB9_v9"
      }
    },
    {
      "cell_type": "markdown",
      "source": [
        "First, we need to get the determinant of $M$."
      ],
      "metadata": {
        "id": "ewFNvvl4-K9t"
      }
    },
    {
      "cell_type": "markdown",
      "source": [
        "$$\n",
        "|M| = (1)(5) - (-3)(7) = 26\n",
        "$$\n"
      ],
      "metadata": {
        "id": "7ejhO-kA-Rah"
      }
    },
    {
      "cell_type": "markdown",
      "source": [
        "Next, we need to reform the matrix into the inverse form"
      ],
      "metadata": {
        "id": "a12XlsmJ-iln"
      }
    },
    {
      "cell_type": "markdown",
      "source": [
        "$$\n",
        "M^{-1} = \\begin{align} \\frac{1}{|M|} \\end{align} \n",
        "\\begin{bmatrix}\n",
        "m_{(1,1)}& -m_{(0,1)}\\\\\n",
        "-m_{(1,0)}& m_{(0,0)}\\\\\n",
        "\\end{bmatrix}\n",
        "$$"
      ],
      "metadata": {
        "id": "j_fVTLog-jlD"
      }
    },
    {
      "cell_type": "markdown",
      "source": [
        "So that will be:"
      ],
      "metadata": {
        "id": "O6yx0hiBBK3t"
      }
    },
    {
      "cell_type": "markdown",
      "source": [
        "$$M^{-1} = \\frac{1}{26} \\begin{bmatrix} 5 & -7 \\\\ 3 & 1\\end{bmatrix} = \\begin{bmatrix} \\frac{5}{26} & \\frac{-7}{26} \\\\ \\frac{3}{26} & \\frac{1}{26}\\end{bmatrix}$$"
      ],
      "metadata": {
        "id": "7v4mtpu8BLRH"
      }
    },
    {
      "cell_type": "markdown",
      "source": [
        "For higher-dimension matrices you might need to use co-factors, minors, adjugates, and other reduction techinques. To solve this programmatially we can use np.linalg.inv()."
      ],
      "metadata": {
        "id": "AyseYmhTGf7x"
      }
    },
    {
      "cell_type": "code",
      "source": [
        "M = np.array([\n",
        "    [17,57],\n",
        "    [23, 45]\n",
        "])\n",
        "\n",
        "np.array(M @ np.linalg.inv(M), dtype=int)"
      ],
      "metadata": {
        "colab": {
          "base_uri": "https://localhost:8080/"
        },
        "id": "cuWghKFFGiR3",
        "outputId": "15b4e4f7-3b9a-416f-b614-67c0edcc792f"
      },
      "execution_count": null,
      "outputs": [
        {
          "output_type": "execute_result",
          "data": {
            "text/plain": [
              "array([[0, 0],\n",
              "       [0, 0]])"
            ]
          },
          "metadata": {},
          "execution_count": 19
        }
      ]
    },
    {
      "cell_type": "code",
      "source": [
        "## And now let's test your skills in solving a matrix with high dimensions:\n",
        "N = np.array([\n",
        "    [12,45,423,121,10,533,553],\n",
        "    [560,255,34,513,524,242,23],\n",
        "    [55,49,220,235,205,10,356],\n",
        "    [61,56,24,24,38,443,15],\n",
        "    [86,426,283,724,12,624,241],\n",
        "    [-5,-165,222,230,-310,356,330],\n",
        "    [224,521,132,246,146,-225,132],\n",
        "])\n",
        "N_inv = np.linalg.inv(N)\n",
        "np.array(N @ N_inv,dtype=int)"
      ],
      "metadata": {
        "colab": {
          "base_uri": "https://localhost:8080/"
        },
        "id": "2ai_3XHEGl1V",
        "outputId": "a3b37878-3148-4238-d2e0-88724e256019"
      },
      "execution_count": null,
      "outputs": [
        {
          "output_type": "execute_result",
          "data": {
            "text/plain": [
              "array([[0, 0, 0, 0, 0, 0, 0],\n",
              "       [0, 1, 0, 0, 0, 0, 0],\n",
              "       [0, 0, 1, 0, 0, 0, 0],\n",
              "       [0, 0, 0, 0, 0, 0, 0],\n",
              "       [0, 0, 0, 0, 1, 0, 0],\n",
              "       [0, 0, 0, 0, 0, 1, 0],\n",
              "       [0, 0, 0, 0, 0, 0, 1]])"
            ]
          },
          "metadata": {},
          "execution_count": 20
        }
      ]
    },
    {
      "cell_type": "markdown",
      "source": [
        "To validate the wether if the matric that you have solved is really the inverse, we follow this dot product property for a matrix $M$:"
      ],
      "metadata": {
        "id": "eNkEjUnJGpBx"
      }
    },
    {
      "cell_type": "markdown",
      "source": [
        "$$\n",
        "M⋅M^{-1} = I\n",
        "$$"
      ],
      "metadata": {
        "id": "QfCtteI0GrI5"
      }
    },
    {
      "cell_type": "code",
      "source": [
        "squad = np.array([\n",
        "    [1.0, 1.0, 0.5],\n",
        "    [0.7, 0.7, 0.9],\n",
        "    [0.3, 0.3, 1.0]\n",
        "])\n",
        "weights = np.array([\n",
        "    [0.2, 0.2, 0.6]\n",
        "])\n",
        "p_grade = squad @ weights.T\n",
        "p_grade"
      ],
      "metadata": {
        "colab": {
          "base_uri": "https://localhost:8080/"
        },
        "id": "A_Wm2mIMG5zP",
        "outputId": "0665247c-0dd3-445f-cbcb-9b0af3ed752e"
      },
      "execution_count": null,
      "outputs": [
        {
          "output_type": "execute_result",
          "data": {
            "text/plain": [
              "array([[0.7 ],\n",
              "       [0.82],\n",
              "       [0.72]])"
            ]
          },
          "metadata": {},
          "execution_count": 34
        }
      ]
    },
    {
      "cell_type": "markdown",
      "source": [
        "## Activity"
      ],
      "metadata": {
        "id": "Cc-7U0UtHGwq"
      }
    },
    {
      "cell_type": "markdown",
      "source": [
        "### Task 1"
      ],
      "metadata": {
        "id": "Zniq66JiHITV"
      }
    },
    {
      "cell_type": "markdown",
      "source": [
        "Prove and implement the remaining 6 matrix multiplication properties. You may create your own matrices in which their shapes should not be lower than $(3,3)$. In your methodology, create individual flowcharts for each property and discuss the property you would then present your proofs or validity of your implementation in the results section by comparing your result to present functions from NumPy."
      ],
      "metadata": {
        "id": "G7MOohurHLuF"
      }
    },
    {
      "cell_type": "markdown",
      "source": [
        "## Conclusion"
      ],
      "metadata": {
        "id": "tSk7UnR7HXC9"
      }
    },
    {
      "cell_type": "markdown",
      "source": [
        "For your conclusion synthesize the concept and application of the laboratory. Briefly discuss what you have learned and achieved in this activity. Also answer the question: \"how can matrix operations solve problems in healthcare?\"."
      ],
      "metadata": {
        "id": "Y-oG2vUMHZ8K"
      }
    },
    {
      "cell_type": "markdown",
      "source": [
        "Conclusion in the Lab report:\n",
        "\n",
        "In light of the learnings that the students were able to obtain, it could also be applied to several fields. One of which is that the matrix operation could be used through the healthcare system. In the healthcare system, there is a field that is specialized in treating certain eye illnesses. In this particular field, the use of optics would be prevalent in order to execute a certain diagnosis. With the help of matrices, calculating the reflection and refraction of a certain light would be comparatively easy compared to calculating it through the manual method. Furthermore, it could also be applied when dealing with certain bills that are needed to be paid for healthcare. In here, rectangular arrays of matrices are used by a certain program that would flexibly conduct the calculations quickly and efficiently. With all of this in mind, it is irrefutable that matrix does indeed ease the burden when it comes to solving problems in healthcare. As such, exploring the applications and possibilities of matrices is imperative in order to nurture a better living."
      ],
      "metadata": {
        "id": "b7AtZabnCPO5"
      }
    }
  ]
}