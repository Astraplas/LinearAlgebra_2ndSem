{
  "nbformat": 4,
  "nbformat_minor": 0,
  "metadata": {
    "colab": {
      "name": "Assignment 10",
      "provenance": [],
      "authorship_tag": "ABX9TyOl25PWkSbvBRm9IrrGTRAO",
      "include_colab_link": true
    },
    "kernelspec": {
      "name": "python3",
      "display_name": "Python 3"
    },
    "language_info": {
      "name": "python"
    }
  },
  "cells": [
    {
      "cell_type": "markdown",
      "metadata": {
        "id": "view-in-github",
        "colab_type": "text"
      },
      "source": [
        "<a href=\"https://colab.research.google.com/github/Astraplas/LinearAlgebra_2ndSem/blob/main/Assignment_10.ipynb\" target=\"_parent\"><img src=\"https://colab.research.google.com/assets/colab-badge.svg\" alt=\"Open In Colab\"/></a>"
      ]
    },
    {
      "cell_type": "markdown",
      "source": [
        "#Linear Algebra for ChE"
      ],
      "metadata": {
        "id": "oOJBQfwuRD-a"
      }
    },
    {
      "cell_type": "markdown",
      "source": [
        "##Laboratory 3 : Linear Combination and Vector Spaces"
      ],
      "metadata": {
        "id": "TeStst-NRKpA"
      }
    },
    {
      "cell_type": "markdown",
      "source": [
        "Now that you have a fundamental knowledge about linear combination, we'll try to visualize it using scientific programming."
      ],
      "metadata": {
        "id": "zaXdmgnxROeT"
      }
    },
    {
      "cell_type": "markdown",
      "source": [
        "###Objectives"
      ],
      "metadata": {
        "id": "RvO5agQiRRLK"
      }
    },
    {
      "cell_type": "markdown",
      "source": [
        "At the end of this activity you will be able to:\n",
        "\n",
        "1. Be familiar with representing linear combinations in the 2-dimensional plane.\n",
        "2. Visualize spans using vector fields in Python.\n",
        "3. Perform vector fields operations using scientific programming."
      ],
      "metadata": {
        "id": "AXzmPIdLRVkw"
      }
    },
    {
      "cell_type": "markdown",
      "source": [
        "##Discussion"
      ],
      "metadata": {
        "id": "Q_yntrF7RZ8E"
      }
    },
    {
      "cell_type": "code",
      "source": [
        "import numpy as np\n",
        "import matplotlib.pyplot as plt\n",
        "%matplotlib inline"
      ],
      "metadata": {
        "id": "6Gl5xgfxRaun"
      },
      "execution_count": null,
      "outputs": []
    },
    {
      "cell_type": "markdown",
      "source": [
        "##Linear Combination\n",
        "It is said that a linear combination is the combination of linear scaling and addition of a vector its bases/components\n",
        "\n",
        "We will try to visualize the vectors and their linear combinations by plotting a sample of real number values for the scalars for the vectors. Let's first try the vectors below:\n",
        "\n",
        "  \n",
        " "
      ],
      "metadata": {
        "id": "BA4O-XEwRh0a"
      }
    },
    {
      "cell_type": "markdown",
      "source": [
        "$$X = \\begin{bmatrix} 14\\\\6 \\\\\\end{bmatrix} , Y = \\begin{bmatrix} 22\\\\13 \\\\\\end{bmatrix} $$"
      ],
      "metadata": {
        "id": "DE7xRwrCRkbQ"
      }
    },
    {
      "cell_type": "code",
      "source": [
        "vectX =  np.array([14,6])\n",
        "vectY =  np.array([22,13])"
      ],
      "metadata": {
        "id": "OrG3ZvTpRm1U"
      },
      "execution_count": null,
      "outputs": []
    },
    {
      "cell_type": "markdown",
      "source": [
        "###Span of single vectors\n",
        "As discussed in the lecture, the span of individual vectors can be represented by a line span. Let's take vector $X$ as an example."
      ],
      "metadata": {
        "id": "E7zxkW39Rq28"
      }
    },
    {
      "cell_type": "markdown",
      "source": [
        "$$X = c\\cdot \\begin{bmatrix} 14\\\\6 \\\\\\end{bmatrix} $$"
      ],
      "metadata": {
        "id": "33ONlM2nRvnd"
      }
    },
    {
      "cell_type": "code",
      "source": [
        "c = np.arange(-25,25,0.335)\n",
        "\n",
        "plt.scatter(c*vectX[0],c*vectX[1])\n",
        "\n",
        "\n",
        "plt.xlim(-30,30)\n",
        "plt.ylim(-30,30)\n",
        "plt.axhline(y=0, color='blue')\n",
        "plt.axvline(x=0, color='blue')\n",
        "plt.grid()\n",
        "plt.show()"
      ],
      "metadata": {
        "colab": {
          "base_uri": "https://localhost:8080/",
          "height": 269
        },
        "id": "3ZTS2iI6RwAZ",
        "outputId": "b1148769-025b-4827-cb4b-91a38c47ade5"
      },
      "execution_count": null,
      "outputs": [
        {
          "output_type": "display_data",
          "data": {
            "text/plain": [
              "<Figure size 432x288 with 1 Axes>"
            ],
            "image/png": "[encoded data removed]"
          },
          "metadata": {
            "needs_background": "light"
          }
        }
      ]
    },
    {
      "cell_type": "markdown",
      "source": [
        "###Span of a linear combination of vectors\n",
        "So what if we are to plot the span of a linear combination of vectors? We can visualize as a plane on the 2-dimensional coordinate system. Let's take the span of the linear combination below:\n",
        "\n"
      ],
      "metadata": {
        "id": "vShjlMMsR3yJ"
      }
    },
    {
      "cell_type": "markdown",
      "source": [
        "$$S = \\begin{Bmatrix} c_1 \\cdot\\begin{bmatrix} 5\\\\6 \\\\\\end{bmatrix}, \n",
        "c_2 \\cdot \\begin{bmatrix} 7\\\\4 \\\\\\end{bmatrix}\\end{Bmatrix} $$"
      ],
      "metadata": {
        "id": "HZvu0XSaKa6Y"
      }
    },
    {
      "cell_type": "code",
      "source": [
        "array1 = np.array([5,6])\n",
        "array2 = np.array([7,4])\n",
        "R = np.arange(-8,8,1.25)\n",
        "c1, c2 = np.meshgrid(R,R)\n",
        "vectR = array1 + array2\n",
        "spanRx = c1*array1[0] + c2*array2[0]\n",
        "spanRy = c1*array1[1] + c2*array2[1]\n",
        "# plt.scatter(R*vectA[0],R*vectA[1])\n",
        "plt.scatter(spanRx,spanRy, s=7, alpha=0.75)\n",
        "\n",
        "plt.axhline(y=0, color='orange')\n",
        "plt.axvline(x=0, color='orange')\n",
        "plt.grid()\n",
        "plt.show()"
      ],
      "metadata": {
        "colab": {
          "base_uri": "https://localhost:8080/",
          "height": 265
        },
        "id": "yFKTgfvCR9SV",
        "outputId": "72317d1a-e728-4c33-8397-682ab2ed0e25"
      },
      "execution_count": null,
      "outputs": [
        {
          "output_type": "display_data",
          "data": {
            "text/plain": [
              "<Figure size 432x288 with 1 Axes>"
            ],
            "image/png": "[encoded data removed]"
          },
          "metadata": {
            "needs_background": "light"
          }
        }
      ]
    },
    {
      "cell_type": "code",
      "source": [
        "array3 = np.array([3,3])\n",
        "array4 = np.array([5,4])\n",
        "\n",
        "R = np.arange(-10,10,1.05)\n",
        "\n",
        "c1, c2 = np.meshgrid(R,R)\n",
        "\n",
        "vectR = array3 + array4\n",
        "spanRx = c1*array3[0] + c2*array4[0]\n",
        "spanRy = c1*array3[1] + c2*array4[1]\n",
        "##plt.scatter(R*array1[0],R*array1[1])\n",
        "##plt.scatter(R*array2[0],R*array2[1])\n",
        "plt.scatter(spanRx,spanRy, s=6, alpha=0.875)\n",
        "\n",
        "plt.axhline(y=0, color='yellow')\n",
        "plt.axvline(x=0, color='yellow')\n",
        "plt.grid()\n",
        "plt.show()"
      ],
      "metadata": {
        "colab": {
          "base_uri": "https://localhost:8080/",
          "height": 265
        },
        "id": "WwkBbXVcKotF",
        "outputId": "eb8dda34-79f8-44fa-cb74-2dc3315f443e"
      },
      "execution_count": null,
      "outputs": [
        {
          "output_type": "display_data",
          "data": {
            "text/plain": [
              "<Figure size 432x288 with 1 Axes>"
            ],
            "image/png": "[encoded data removed]"
          },
          "metadata": {
            "needs_background": "light"
          }
        }
      ]
    },
    {
      "cell_type": "markdown",
      "source": [
        "Take note that if vectors are seen to be as a 2-dimensional span we can say it has a Rank of 2 or $\\mathbb{R}^2$. But if the span of the linear combination of vectors are seen to be like a line, they are said to be <b> linearly dependent </b> and they have a rank of 1 or $\\mathbb{R}^1$."
      ],
      "metadata": {
        "id": "KvPHnySIKyk5"
      }
    },
    {
      "cell_type": "markdown",
      "source": [
        "#Activity"
      ],
      "metadata": {
        "id": "4ypTJmhlSBi4"
      }
    },
    {
      "cell_type": "markdown",
      "source": [
        "###Task 1"
      ],
      "metadata": {
        "id": "oG3eT8i_SDhy"
      }
    },
    {
      "cell_type": "markdown",
      "source": [
        "Try different linear combinations using different scalar values. In your methodology discuss the different functions that you have used, the linear equation and vector form of the linear combination, and the flowchart for declaring and displaying linear combinations. Please make sure that your flowchart has only few words and not putting the entire code as it is bad practice. In your results, display and discuss the linear combination visualization you made. You should use the cells below for displaying the equation markdows using LaTeX and your code."
      ],
      "metadata": {
        "id": "ujyxLDcYSF7Z"
      }
    },
    {
      "cell_type": "markdown",
      "source": [
        "$$ Vector1 = -10\\hat{i} + 2\\hat{j}  \\\\\n",
        "Vector 2 = 13\\hat{x} - 8\\hat{k}\\\\ $$\n",
        "\n",
        "\n",
        "\n"
      ],
      "metadata": {
        "id": "AQ4b_vQbSG-V"
      }
    },
    {
      "cell_type": "markdown",
      "source": [
        "$$Span = \\begin{Bmatrix} Vector1 \\cdot\\begin{bmatrix} -10\\\\2 \\\\\\end{bmatrix}, \n",
        "vector2 \\cdot \\begin{bmatrix} 13\\\\-8 \\\\\\end{bmatrix}\\end{Bmatrix} $$"
      ],
      "metadata": {
        "id": "Nxpr-4PZK7j1"
      }
    },
    {
      "cell_type": "code",
      "source": [
        "vectP = np.array([-10,2])\n",
        "vectQ = np.array([13,-8])\n",
        "\n",
        "R = np.arange(-10,10,1)\n",
        "\n",
        "c1, c2 = np.meshgrid(R,R)\n",
        "\n",
        "vectR = vectP + vectQ\n",
        "spanRx = c1*vectP[0] + c2*vectQ[0]\n",
        "spanRy = c1*vectP[1] + c2*vectQ[1]\n",
        "##plt.scatter(R*vectA[0],R*vectA[1])\n",
        "##plt.scatter(R*vectB[0],R*vectB[1])\n",
        "plt.scatter(spanRx,spanRy, s=5, alpha=0.75)\n",
        "\n",
        "plt.axhline(y=0, color='red')\n",
        "plt.axvline(x=0, color='red')\n",
        "plt.grid()\n",
        "plt.show()"
      ],
      "metadata": {
        "id": "ST9R80RSw6U9"
      },
      "execution_count": null,
      "outputs": []
    },
    {
      "cell_type": "markdown",
      "source": [
        "#Conclusion guide\n",
        "For your conclusion synthesize the concept and application of the laboratory. Briefly discuss what you have learn and achieved in this activity. At the end of your conclusion try to answer the question : \"How can you apply the concept of linear combination in engineeing or real-life situations?\"."
      ],
      "metadata": {
        "id": "W-sKcCX_SXqy"
      }
    }
  ]
}